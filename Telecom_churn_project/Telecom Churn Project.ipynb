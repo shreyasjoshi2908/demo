{
 "cells": [
  {
   "cell_type": "markdown",
   "id": "8b425862",
   "metadata": {},
   "source": [
    "### Here I have imported all required libraries\n",
    "- pandas : To analyze the data\n",
    "- numpy : To work with arrays and some mathematical operations\n",
    "- matplotlib : It is an amazing data visualization library to work with 2D graphs and plots and to visualization the data\n",
    "- seaborn : It is an amazing data visualization library for statistical graphics plotting in Python. Seaborn was built on top of Matplotlib\n",
    "- warnings : It will ignore warnings while doing visualizations on any plots or graphs."
   ]
  },
  {
   "cell_type": "code",
   "execution_count": 1,
   "id": "50dfdbec",
   "metadata": {},
   "outputs": [],
   "source": [
    "import pandas as pd\n",
    "import numpy as np\n",
    "import matplotlib.pyplot as plt\n",
    "import seaborn as sns\n",
    "import warnings\n",
    "warnings.filterwarnings('ignore')"
   ]
  },
  {
   "cell_type": "markdown",
   "id": "68d306d2",
   "metadata": {},
   "source": [
    "#### Reading the data in csv format"
   ]
  },
  {
   "cell_type": "code",
   "execution_count": 3,
   "id": "1d7c2363",
   "metadata": {},
   "outputs": [
    {
     "data": {
      "text/html": [
       "<div>\n",
       "<style scoped>\n",
       "    .dataframe tbody tr th:only-of-type {\n",
       "        vertical-align: middle;\n",
       "    }\n",
       "\n",
       "    .dataframe tbody tr th {\n",
       "        vertical-align: top;\n",
       "    }\n",
       "\n",
       "    .dataframe thead th {\n",
       "        text-align: right;\n",
       "    }\n",
       "</style>\n",
       "<table border=\"1\" class=\"dataframe\">\n",
       "  <thead>\n",
       "    <tr style=\"text-align: right;\">\n",
       "      <th></th>\n",
       "      <th>Id</th>\n",
       "      <th>State</th>\n",
       "      <th>Account length</th>\n",
       "      <th>Area code</th>\n",
       "      <th>International plan</th>\n",
       "      <th>Voice mail plan</th>\n",
       "      <th>Number vmail messages</th>\n",
       "      <th>Total day minutes</th>\n",
       "      <th>Total day calls</th>\n",
       "      <th>Total day charge</th>\n",
       "      <th>...</th>\n",
       "      <th>Total eve calls</th>\n",
       "      <th>Total eve charge</th>\n",
       "      <th>Total night minutes</th>\n",
       "      <th>Total night calls</th>\n",
       "      <th>Total night charge</th>\n",
       "      <th>Total intl minutes</th>\n",
       "      <th>Total intl calls</th>\n",
       "      <th>Total intl charge</th>\n",
       "      <th>Customer service calls</th>\n",
       "      <th>Churn</th>\n",
       "    </tr>\n",
       "  </thead>\n",
       "  <tbody>\n",
       "    <tr>\n",
       "      <th>0</th>\n",
       "      <td>CUST-1</td>\n",
       "      <td>KS</td>\n",
       "      <td>128</td>\n",
       "      <td>415</td>\n",
       "      <td>No</td>\n",
       "      <td>Yes</td>\n",
       "      <td>25</td>\n",
       "      <td>265.1</td>\n",
       "      <td>110</td>\n",
       "      <td>45.07</td>\n",
       "      <td>...</td>\n",
       "      <td>99</td>\n",
       "      <td>16.78</td>\n",
       "      <td>244.7</td>\n",
       "      <td>91</td>\n",
       "      <td>11.01</td>\n",
       "      <td>10.0</td>\n",
       "      <td>3</td>\n",
       "      <td>2.70</td>\n",
       "      <td>1</td>\n",
       "      <td>False</td>\n",
       "    </tr>\n",
       "    <tr>\n",
       "      <th>1</th>\n",
       "      <td>CUST-2</td>\n",
       "      <td>OH</td>\n",
       "      <td>107</td>\n",
       "      <td>415</td>\n",
       "      <td>No</td>\n",
       "      <td>Yes</td>\n",
       "      <td>26</td>\n",
       "      <td>161.6</td>\n",
       "      <td>123</td>\n",
       "      <td>27.47</td>\n",
       "      <td>...</td>\n",
       "      <td>103</td>\n",
       "      <td>16.62</td>\n",
       "      <td>254.4</td>\n",
       "      <td>103</td>\n",
       "      <td>11.45</td>\n",
       "      <td>13.7</td>\n",
       "      <td>3</td>\n",
       "      <td>3.70</td>\n",
       "      <td>1</td>\n",
       "      <td>False</td>\n",
       "    </tr>\n",
       "    <tr>\n",
       "      <th>2</th>\n",
       "      <td>CUST-3</td>\n",
       "      <td>NJ</td>\n",
       "      <td>137</td>\n",
       "      <td>415</td>\n",
       "      <td>No</td>\n",
       "      <td>No</td>\n",
       "      <td>0</td>\n",
       "      <td>243.4</td>\n",
       "      <td>114</td>\n",
       "      <td>41.38</td>\n",
       "      <td>...</td>\n",
       "      <td>110</td>\n",
       "      <td>10.30</td>\n",
       "      <td>162.6</td>\n",
       "      <td>104</td>\n",
       "      <td>7.32</td>\n",
       "      <td>12.2</td>\n",
       "      <td>5</td>\n",
       "      <td>3.29</td>\n",
       "      <td>0</td>\n",
       "      <td>False</td>\n",
       "    </tr>\n",
       "    <tr>\n",
       "      <th>3</th>\n",
       "      <td>CUST-4</td>\n",
       "      <td>OH</td>\n",
       "      <td>84</td>\n",
       "      <td>408</td>\n",
       "      <td>Yes</td>\n",
       "      <td>No</td>\n",
       "      <td>0</td>\n",
       "      <td>299.4</td>\n",
       "      <td>71</td>\n",
       "      <td>50.90</td>\n",
       "      <td>...</td>\n",
       "      <td>88</td>\n",
       "      <td>5.26</td>\n",
       "      <td>196.9</td>\n",
       "      <td>89</td>\n",
       "      <td>8.86</td>\n",
       "      <td>6.6</td>\n",
       "      <td>7</td>\n",
       "      <td>1.78</td>\n",
       "      <td>2</td>\n",
       "      <td>False</td>\n",
       "    </tr>\n",
       "    <tr>\n",
       "      <th>4</th>\n",
       "      <td>CUST-5</td>\n",
       "      <td>OK</td>\n",
       "      <td>75</td>\n",
       "      <td>415</td>\n",
       "      <td>Yes</td>\n",
       "      <td>No</td>\n",
       "      <td>0</td>\n",
       "      <td>166.7</td>\n",
       "      <td>113</td>\n",
       "      <td>28.34</td>\n",
       "      <td>...</td>\n",
       "      <td>122</td>\n",
       "      <td>12.61</td>\n",
       "      <td>186.9</td>\n",
       "      <td>121</td>\n",
       "      <td>8.41</td>\n",
       "      <td>10.1</td>\n",
       "      <td>3</td>\n",
       "      <td>2.73</td>\n",
       "      <td>3</td>\n",
       "      <td>False</td>\n",
       "    </tr>\n",
       "  </tbody>\n",
       "</table>\n",
       "<p>5 rows × 21 columns</p>\n",
       "</div>"
      ],
      "text/plain": [
       "       Id State  Account length  Area code International plan Voice mail plan  \\\n",
       "0  CUST-1    KS             128        415                 No             Yes   \n",
       "1  CUST-2    OH             107        415                 No             Yes   \n",
       "2  CUST-3    NJ             137        415                 No              No   \n",
       "3  CUST-4    OH              84        408                Yes              No   \n",
       "4  CUST-5    OK              75        415                Yes              No   \n",
       "\n",
       "   Number vmail messages  Total day minutes  Total day calls  \\\n",
       "0                     25              265.1              110   \n",
       "1                     26              161.6              123   \n",
       "2                      0              243.4              114   \n",
       "3                      0              299.4               71   \n",
       "4                      0              166.7              113   \n",
       "\n",
       "   Total day charge  ...  Total eve calls  Total eve charge  \\\n",
       "0             45.07  ...               99             16.78   \n",
       "1             27.47  ...              103             16.62   \n",
       "2             41.38  ...              110             10.30   \n",
       "3             50.90  ...               88              5.26   \n",
       "4             28.34  ...              122             12.61   \n",
       "\n",
       "   Total night minutes  Total night calls  Total night charge  \\\n",
       "0                244.7                 91               11.01   \n",
       "1                254.4                103               11.45   \n",
       "2                162.6                104                7.32   \n",
       "3                196.9                 89                8.86   \n",
       "4                186.9                121                8.41   \n",
       "\n",
       "   Total intl minutes  Total intl calls  Total intl charge  \\\n",
       "0                10.0                 3               2.70   \n",
       "1                13.7                 3               3.70   \n",
       "2                12.2                 5               3.29   \n",
       "3                 6.6                 7               1.78   \n",
       "4                10.1                 3               2.73   \n",
       "\n",
       "   Customer service calls  Churn  \n",
       "0                       1  False  \n",
       "1                       1  False  \n",
       "2                       0  False  \n",
       "3                       2  False  \n",
       "4                       3  False  \n",
       "\n",
       "[5 rows x 21 columns]"
      ]
     },
     "execution_count": 3,
     "metadata": {},
     "output_type": "execute_result"
    }
   ],
   "source": [
    "telecom = pd.read_csv('data.csv')\n",
    "telecom.head()"
   ]
  },
  {
   "cell_type": "markdown",
   "id": "6c62f3d5",
   "metadata": {},
   "source": [
    "- head() is used to show top 5 records."
   ]
  },
  {
   "cell_type": "code",
   "execution_count": 4,
   "id": "3e5d0866",
   "metadata": {},
   "outputs": [
    {
     "data": {
      "text/plain": [
       "(3333, 21)"
      ]
     },
     "execution_count": 4,
     "metadata": {},
     "output_type": "execute_result"
    }
   ],
   "source": [
    "telecom.shape"
   ]
  },
  {
   "cell_type": "markdown",
   "id": "af5fed85",
   "metadata": {},
   "source": [
    "- shape is used to see how many rows and features are present."
   ]
  },
  {
   "cell_type": "code",
   "execution_count": 5,
   "id": "34e28375",
   "metadata": {},
   "outputs": [
    {
     "name": "stdout",
     "output_type": "stream",
     "text": [
      "<class 'pandas.core.frame.DataFrame'>\n",
      "RangeIndex: 3333 entries, 0 to 3332\n",
      "Data columns (total 21 columns):\n",
      " #   Column                  Non-Null Count  Dtype  \n",
      "---  ------                  --------------  -----  \n",
      " 0   Id                      3333 non-null   object \n",
      " 1   State                   3333 non-null   object \n",
      " 2   Account length          3333 non-null   int64  \n",
      " 3   Area code               3333 non-null   int64  \n",
      " 4   International plan      3333 non-null   object \n",
      " 5   Voice mail plan         3333 non-null   object \n",
      " 6   Number vmail messages   3333 non-null   int64  \n",
      " 7   Total day minutes       3333 non-null   float64\n",
      " 8   Total day calls         3333 non-null   int64  \n",
      " 9   Total day charge        3333 non-null   float64\n",
      " 10  Total eve minutes       3333 non-null   float64\n",
      " 11  Total eve calls         3333 non-null   int64  \n",
      " 12  Total eve charge        3333 non-null   float64\n",
      " 13  Total night minutes     3333 non-null   float64\n",
      " 14  Total night calls       3333 non-null   int64  \n",
      " 15  Total night charge      3333 non-null   float64\n",
      " 16  Total intl minutes      3333 non-null   float64\n",
      " 17  Total intl calls        3333 non-null   int64  \n",
      " 18  Total intl charge       3333 non-null   float64\n",
      " 19  Customer service calls  3333 non-null   int64  \n",
      " 20  Churn                   3333 non-null   bool   \n",
      "dtypes: bool(1), float64(8), int64(8), object(4)\n",
      "memory usage: 524.2+ KB\n"
     ]
    }
   ],
   "source": [
    "telecom.info()"
   ]
  },
  {
   "cell_type": "markdown",
   "id": "47f4c592",
   "metadata": {},
   "source": [
    "- info() is used to vizualize the non-null values and Dtype of features."
   ]
  },
  {
   "cell_type": "code",
   "execution_count": 6,
   "id": "4b1f849a",
   "metadata": {},
   "outputs": [
    {
     "data": {
      "text/plain": [
       "Id                        0\n",
       "State                     0\n",
       "Account length            0\n",
       "Area code                 0\n",
       "International plan        0\n",
       "Voice mail plan           0\n",
       "Number vmail messages     0\n",
       "Total day minutes         0\n",
       "Total day calls           0\n",
       "Total day charge          0\n",
       "Total eve minutes         0\n",
       "Total eve calls           0\n",
       "Total eve charge          0\n",
       "Total night minutes       0\n",
       "Total night calls         0\n",
       "Total night charge        0\n",
       "Total intl minutes        0\n",
       "Total intl calls          0\n",
       "Total intl charge         0\n",
       "Customer service calls    0\n",
       "Churn                     0\n",
       "dtype: int64"
      ]
     },
     "execution_count": 6,
     "metadata": {},
     "output_type": "execute_result"
    }
   ],
   "source": [
    "telecom.isnull().sum()"
   ]
  },
  {
   "cell_type": "markdown",
   "id": "28072fcb",
   "metadata": {},
   "source": [
    "- isnull().sum() is used to check null values and there total sum."
   ]
  },
  {
   "cell_type": "code",
   "execution_count": 7,
   "id": "b9f14cf1",
   "metadata": {},
   "outputs": [
    {
     "data": {
      "text/plain": [
       "Id                         object\n",
       "State                      object\n",
       "Account length              int64\n",
       "Area code                   int64\n",
       "International plan         object\n",
       "Voice mail plan            object\n",
       "Number vmail messages       int64\n",
       "Total day minutes         float64\n",
       "Total day calls             int64\n",
       "Total day charge          float64\n",
       "Total eve minutes         float64\n",
       "Total eve calls             int64\n",
       "Total eve charge          float64\n",
       "Total night minutes       float64\n",
       "Total night calls           int64\n",
       "Total night charge        float64\n",
       "Total intl minutes        float64\n",
       "Total intl calls            int64\n",
       "Total intl charge         float64\n",
       "Customer service calls      int64\n",
       "Churn                        bool\n",
       "dtype: object"
      ]
     },
     "execution_count": 7,
     "metadata": {},
     "output_type": "execute_result"
    }
   ],
   "source": [
    "telecom.dtypes"
   ]
  },
  {
   "cell_type": "markdown",
   "id": "fc29524b",
   "metadata": {},
   "source": [
    "### Data Preprocessing\n",
    "\n",
    "- Unrelevant features would be dropped to clean the data and decrease the training speed.\n",
    "- Therefore, finding and selecting the most useful features in the dataset is crucial."
   ]
  },
  {
   "cell_type": "code",
   "execution_count": 8,
   "id": "fd31fa75",
   "metadata": {},
   "outputs": [],
   "source": [
    "telecom.drop(['Id', 'State', 'Area code'], axis=1, inplace=True)"
   ]
  },
  {
   "cell_type": "code",
   "execution_count": 9,
   "id": "a86db92e",
   "metadata": {},
   "outputs": [
    {
     "data": {
      "text/html": [
       "<div>\n",
       "<style scoped>\n",
       "    .dataframe tbody tr th:only-of-type {\n",
       "        vertical-align: middle;\n",
       "    }\n",
       "\n",
       "    .dataframe tbody tr th {\n",
       "        vertical-align: top;\n",
       "    }\n",
       "\n",
       "    .dataframe thead th {\n",
       "        text-align: right;\n",
       "    }\n",
       "</style>\n",
       "<table border=\"1\" class=\"dataframe\">\n",
       "  <thead>\n",
       "    <tr style=\"text-align: right;\">\n",
       "      <th></th>\n",
       "      <th>Account length</th>\n",
       "      <th>International plan</th>\n",
       "      <th>Voice mail plan</th>\n",
       "      <th>Number vmail messages</th>\n",
       "      <th>Total day minutes</th>\n",
       "      <th>Total day calls</th>\n",
       "      <th>Total day charge</th>\n",
       "      <th>Total eve minutes</th>\n",
       "      <th>Total eve calls</th>\n",
       "      <th>Total eve charge</th>\n",
       "      <th>Total night minutes</th>\n",
       "      <th>Total night calls</th>\n",
       "      <th>Total night charge</th>\n",
       "      <th>Total intl minutes</th>\n",
       "      <th>Total intl calls</th>\n",
       "      <th>Total intl charge</th>\n",
       "      <th>Customer service calls</th>\n",
       "      <th>Churn</th>\n",
       "    </tr>\n",
       "  </thead>\n",
       "  <tbody>\n",
       "    <tr>\n",
       "      <th>0</th>\n",
       "      <td>128</td>\n",
       "      <td>No</td>\n",
       "      <td>Yes</td>\n",
       "      <td>25</td>\n",
       "      <td>265.1</td>\n",
       "      <td>110</td>\n",
       "      <td>45.07</td>\n",
       "      <td>197.4</td>\n",
       "      <td>99</td>\n",
       "      <td>16.78</td>\n",
       "      <td>244.7</td>\n",
       "      <td>91</td>\n",
       "      <td>11.01</td>\n",
       "      <td>10.0</td>\n",
       "      <td>3</td>\n",
       "      <td>2.70</td>\n",
       "      <td>1</td>\n",
       "      <td>False</td>\n",
       "    </tr>\n",
       "    <tr>\n",
       "      <th>1</th>\n",
       "      <td>107</td>\n",
       "      <td>No</td>\n",
       "      <td>Yes</td>\n",
       "      <td>26</td>\n",
       "      <td>161.6</td>\n",
       "      <td>123</td>\n",
       "      <td>27.47</td>\n",
       "      <td>195.5</td>\n",
       "      <td>103</td>\n",
       "      <td>16.62</td>\n",
       "      <td>254.4</td>\n",
       "      <td>103</td>\n",
       "      <td>11.45</td>\n",
       "      <td>13.7</td>\n",
       "      <td>3</td>\n",
       "      <td>3.70</td>\n",
       "      <td>1</td>\n",
       "      <td>False</td>\n",
       "    </tr>\n",
       "    <tr>\n",
       "      <th>2</th>\n",
       "      <td>137</td>\n",
       "      <td>No</td>\n",
       "      <td>No</td>\n",
       "      <td>0</td>\n",
       "      <td>243.4</td>\n",
       "      <td>114</td>\n",
       "      <td>41.38</td>\n",
       "      <td>121.2</td>\n",
       "      <td>110</td>\n",
       "      <td>10.30</td>\n",
       "      <td>162.6</td>\n",
       "      <td>104</td>\n",
       "      <td>7.32</td>\n",
       "      <td>12.2</td>\n",
       "      <td>5</td>\n",
       "      <td>3.29</td>\n",
       "      <td>0</td>\n",
       "      <td>False</td>\n",
       "    </tr>\n",
       "    <tr>\n",
       "      <th>3</th>\n",
       "      <td>84</td>\n",
       "      <td>Yes</td>\n",
       "      <td>No</td>\n",
       "      <td>0</td>\n",
       "      <td>299.4</td>\n",
       "      <td>71</td>\n",
       "      <td>50.90</td>\n",
       "      <td>61.9</td>\n",
       "      <td>88</td>\n",
       "      <td>5.26</td>\n",
       "      <td>196.9</td>\n",
       "      <td>89</td>\n",
       "      <td>8.86</td>\n",
       "      <td>6.6</td>\n",
       "      <td>7</td>\n",
       "      <td>1.78</td>\n",
       "      <td>2</td>\n",
       "      <td>False</td>\n",
       "    </tr>\n",
       "    <tr>\n",
       "      <th>4</th>\n",
       "      <td>75</td>\n",
       "      <td>Yes</td>\n",
       "      <td>No</td>\n",
       "      <td>0</td>\n",
       "      <td>166.7</td>\n",
       "      <td>113</td>\n",
       "      <td>28.34</td>\n",
       "      <td>148.3</td>\n",
       "      <td>122</td>\n",
       "      <td>12.61</td>\n",
       "      <td>186.9</td>\n",
       "      <td>121</td>\n",
       "      <td>8.41</td>\n",
       "      <td>10.1</td>\n",
       "      <td>3</td>\n",
       "      <td>2.73</td>\n",
       "      <td>3</td>\n",
       "      <td>False</td>\n",
       "    </tr>\n",
       "  </tbody>\n",
       "</table>\n",
       "</div>"
      ],
      "text/plain": [
       "   Account length International plan Voice mail plan  Number vmail messages  \\\n",
       "0             128                 No             Yes                     25   \n",
       "1             107                 No             Yes                     26   \n",
       "2             137                 No              No                      0   \n",
       "3              84                Yes              No                      0   \n",
       "4              75                Yes              No                      0   \n",
       "\n",
       "   Total day minutes  Total day calls  Total day charge  Total eve minutes  \\\n",
       "0              265.1              110             45.07              197.4   \n",
       "1              161.6              123             27.47              195.5   \n",
       "2              243.4              114             41.38              121.2   \n",
       "3              299.4               71             50.90               61.9   \n",
       "4              166.7              113             28.34              148.3   \n",
       "\n",
       "   Total eve calls  Total eve charge  Total night minutes  Total night calls  \\\n",
       "0               99             16.78                244.7                 91   \n",
       "1              103             16.62                254.4                103   \n",
       "2              110             10.30                162.6                104   \n",
       "3               88              5.26                196.9                 89   \n",
       "4              122             12.61                186.9                121   \n",
       "\n",
       "   Total night charge  Total intl minutes  Total intl calls  \\\n",
       "0               11.01                10.0                 3   \n",
       "1               11.45                13.7                 3   \n",
       "2                7.32                12.2                 5   \n",
       "3                8.86                 6.6                 7   \n",
       "4                8.41                10.1                 3   \n",
       "\n",
       "   Total intl charge  Customer service calls  Churn  \n",
       "0               2.70                       1  False  \n",
       "1               3.70                       1  False  \n",
       "2               3.29                       0  False  \n",
       "3               1.78                       2  False  \n",
       "4               2.73                       3  False  "
      ]
     },
     "execution_count": 9,
     "metadata": {},
     "output_type": "execute_result"
    }
   ],
   "source": [
    "telecom.head()"
   ]
  },
  {
   "cell_type": "markdown",
   "id": "7fd7d202",
   "metadata": {},
   "source": [
    "### EDA \n",
    "\n",
    "- Exploratory Data Analysis refers to the critical process of performing initial investigations on data so as to discover patterns to spot anomalies, to test hypothesis and to check assumptions with the help of summary statistics and graphical representations."
   ]
  },
  {
   "cell_type": "code",
   "execution_count": 10,
   "id": "fdb9a6c6",
   "metadata": {},
   "outputs": [
    {
     "data": {
      "text/plain": [
       "array([[<AxesSubplot:title={'center':'Total day minutes'}>,\n",
       "        <AxesSubplot:title={'center':'Total intl calls'}>]], dtype=object)"
      ]
     },
     "execution_count": 10,
     "metadata": {},
     "output_type": "execute_result"
    },
    {
     "data": {
      "image/png": "[encoded data removed]",
      "text/plain": [
       "<Figure size 720x288 with 2 Axes>"
      ]
     },
     "metadata": {
      "needs_background": "light"
     },
     "output_type": "display_data"
    }
   ],
   "source": [
    "features = [\"Total day minutes\", \"Total intl calls\"]\n",
    "telecom[features].hist(figsize=(10, 4))"
   ]
  },
  {
   "cell_type": "markdown",
   "id": "82b6a6cc",
   "metadata": {},
   "source": [
    "- In the above plot, we see that the variable Total day minutes is normally distributed, while Total intl calls is prominently skewed right (its tail is longer on the right)."
   ]
  },
  {
   "cell_type": "code",
   "execution_count": 11,
   "id": "2917ace5",
   "metadata": {},
   "outputs": [
    {
     "data": {
      "text/plain": [
       "<AxesSubplot:xlabel='Total intl calls', ylabel='Density'>"
      ]
     },
     "execution_count": 11,
     "metadata": {},
     "output_type": "execute_result"
    },
    {
     "data": {
      "image/png": "[encoded data removed]",
      "text/plain": [
       "<Figure size 432x288 with 1 Axes>"
      ]
     },
     "metadata": {
      "needs_background": "light"
     },
     "output_type": "display_data"
    }
   ],
   "source": [
    "sns.distplot(telecom['Total intl calls'])"
   ]
  },
  {
   "cell_type": "markdown",
   "id": "6e677f1d",
   "metadata": {},
   "source": [
    "- The height of the histogram bars here is normed and shows the density rather than the number of examples in each bin."
   ]
  },
  {
   "cell_type": "code",
   "execution_count": 12,
   "id": "26dcfa5e",
   "metadata": {},
   "outputs": [
    {
     "data": {
      "text/plain": [
       "<AxesSubplot:xlabel='Total intl calls'>"
      ]
     },
     "execution_count": 12,
     "metadata": {},
     "output_type": "execute_result"
    },
    {
     "data": {
      "image/png": "[encoded data removed]",
      "text/plain": [
       "<Figure size 432x288 with 1 Axes>"
      ]
     },
     "metadata": {
      "needs_background": "light"
     },
     "output_type": "display_data"
    }
   ],
   "source": [
    "sns.boxplot(x = 'Total intl calls', data=telecom)"
   ]
  },
  {
   "cell_type": "markdown",
   "id": "c280a4cf",
   "metadata": {},
   "source": [
    "- The box plot length is determined by **25th percentile i.e. (Q1)** and **75th percentile i.e. (Q3)**. The vertical line inside the box marks as **median i.e. 50%** of the distribution. Basically this plot is used to find **outliers.**\n",
    "- Outliers that fall outside of the range bounded by the whiskers **above 10.0** are plotted individually as black points are outliers.\n",
    "- **We can see that a large number of international calls is quite rare in our data.**"
   ]
  },
  {
   "cell_type": "code",
   "execution_count": 13,
   "id": "dc9aaac1",
   "metadata": {},
   "outputs": [
    {
     "data": {
      "text/html": [
       "<div>\n",
       "<style scoped>\n",
       "    .dataframe tbody tr th:only-of-type {\n",
       "        vertical-align: middle;\n",
       "    }\n",
       "\n",
       "    .dataframe tbody tr th {\n",
       "        vertical-align: top;\n",
       "    }\n",
       "\n",
       "    .dataframe thead th {\n",
       "        text-align: right;\n",
       "    }\n",
       "</style>\n",
       "<table border=\"1\" class=\"dataframe\">\n",
       "  <thead>\n",
       "    <tr style=\"text-align: right;\">\n",
       "      <th></th>\n",
       "      <th>Account length</th>\n",
       "      <th>Number vmail messages</th>\n",
       "      <th>Total day minutes</th>\n",
       "      <th>Total day calls</th>\n",
       "      <th>Total day charge</th>\n",
       "      <th>Total eve minutes</th>\n",
       "      <th>Total eve calls</th>\n",
       "      <th>Total eve charge</th>\n",
       "      <th>Total night minutes</th>\n",
       "      <th>Total night calls</th>\n",
       "      <th>Total night charge</th>\n",
       "      <th>Total intl minutes</th>\n",
       "      <th>Total intl calls</th>\n",
       "      <th>Total intl charge</th>\n",
       "      <th>Customer service calls</th>\n",
       "    </tr>\n",
       "  </thead>\n",
       "  <tbody>\n",
       "    <tr>\n",
       "      <th>count</th>\n",
       "      <td>3333.000000</td>\n",
       "      <td>3333.000000</td>\n",
       "      <td>3333.000000</td>\n",
       "      <td>3333.000000</td>\n",
       "      <td>3333.000000</td>\n",
       "      <td>3333.000000</td>\n",
       "      <td>3333.000000</td>\n",
       "      <td>3333.000000</td>\n",
       "      <td>3333.000000</td>\n",
       "      <td>3333.000000</td>\n",
       "      <td>3333.000000</td>\n",
       "      <td>3333.000000</td>\n",
       "      <td>3333.000000</td>\n",
       "      <td>3333.000000</td>\n",
       "      <td>3333.000000</td>\n",
       "    </tr>\n",
       "    <tr>\n",
       "      <th>mean</th>\n",
       "      <td>101.064806</td>\n",
       "      <td>8.099010</td>\n",
       "      <td>179.775098</td>\n",
       "      <td>100.435644</td>\n",
       "      <td>30.562307</td>\n",
       "      <td>200.980348</td>\n",
       "      <td>100.114311</td>\n",
       "      <td>17.083540</td>\n",
       "      <td>200.872037</td>\n",
       "      <td>100.107711</td>\n",
       "      <td>9.039325</td>\n",
       "      <td>10.237294</td>\n",
       "      <td>4.479448</td>\n",
       "      <td>2.764581</td>\n",
       "      <td>1.562856</td>\n",
       "    </tr>\n",
       "    <tr>\n",
       "      <th>std</th>\n",
       "      <td>39.822106</td>\n",
       "      <td>13.688365</td>\n",
       "      <td>54.467389</td>\n",
       "      <td>20.069084</td>\n",
       "      <td>9.259435</td>\n",
       "      <td>50.713844</td>\n",
       "      <td>19.922625</td>\n",
       "      <td>4.310668</td>\n",
       "      <td>50.573847</td>\n",
       "      <td>19.568609</td>\n",
       "      <td>2.275873</td>\n",
       "      <td>2.791840</td>\n",
       "      <td>2.461214</td>\n",
       "      <td>0.753773</td>\n",
       "      <td>1.315491</td>\n",
       "    </tr>\n",
       "    <tr>\n",
       "      <th>min</th>\n",
       "      <td>1.000000</td>\n",
       "      <td>0.000000</td>\n",
       "      <td>0.000000</td>\n",
       "      <td>0.000000</td>\n",
       "      <td>0.000000</td>\n",
       "      <td>0.000000</td>\n",
       "      <td>0.000000</td>\n",
       "      <td>0.000000</td>\n",
       "      <td>23.200000</td>\n",
       "      <td>33.000000</td>\n",
       "      <td>1.040000</td>\n",
       "      <td>0.000000</td>\n",
       "      <td>0.000000</td>\n",
       "      <td>0.000000</td>\n",
       "      <td>0.000000</td>\n",
       "    </tr>\n",
       "    <tr>\n",
       "      <th>25%</th>\n",
       "      <td>74.000000</td>\n",
       "      <td>0.000000</td>\n",
       "      <td>143.700000</td>\n",
       "      <td>87.000000</td>\n",
       "      <td>24.430000</td>\n",
       "      <td>166.600000</td>\n",
       "      <td>87.000000</td>\n",
       "      <td>14.160000</td>\n",
       "      <td>167.000000</td>\n",
       "      <td>87.000000</td>\n",
       "      <td>7.520000</td>\n",
       "      <td>8.500000</td>\n",
       "      <td>3.000000</td>\n",
       "      <td>2.300000</td>\n",
       "      <td>1.000000</td>\n",
       "    </tr>\n",
       "    <tr>\n",
       "      <th>50%</th>\n",
       "      <td>101.000000</td>\n",
       "      <td>0.000000</td>\n",
       "      <td>179.400000</td>\n",
       "      <td>101.000000</td>\n",
       "      <td>30.500000</td>\n",
       "      <td>201.400000</td>\n",
       "      <td>100.000000</td>\n",
       "      <td>17.120000</td>\n",
       "      <td>201.200000</td>\n",
       "      <td>100.000000</td>\n",
       "      <td>9.050000</td>\n",
       "      <td>10.300000</td>\n",
       "      <td>4.000000</td>\n",
       "      <td>2.780000</td>\n",
       "      <td>1.000000</td>\n",
       "    </tr>\n",
       "    <tr>\n",
       "      <th>75%</th>\n",
       "      <td>127.000000</td>\n",
       "      <td>20.000000</td>\n",
       "      <td>216.400000</td>\n",
       "      <td>114.000000</td>\n",
       "      <td>36.790000</td>\n",
       "      <td>235.300000</td>\n",
       "      <td>114.000000</td>\n",
       "      <td>20.000000</td>\n",
       "      <td>235.300000</td>\n",
       "      <td>113.000000</td>\n",
       "      <td>10.590000</td>\n",
       "      <td>12.100000</td>\n",
       "      <td>6.000000</td>\n",
       "      <td>3.270000</td>\n",
       "      <td>2.000000</td>\n",
       "    </tr>\n",
       "    <tr>\n",
       "      <th>max</th>\n",
       "      <td>243.000000</td>\n",
       "      <td>51.000000</td>\n",
       "      <td>350.800000</td>\n",
       "      <td>165.000000</td>\n",
       "      <td>59.640000</td>\n",
       "      <td>363.700000</td>\n",
       "      <td>170.000000</td>\n",
       "      <td>30.910000</td>\n",
       "      <td>395.000000</td>\n",
       "      <td>175.000000</td>\n",
       "      <td>17.770000</td>\n",
       "      <td>20.000000</td>\n",
       "      <td>20.000000</td>\n",
       "      <td>5.400000</td>\n",
       "      <td>9.000000</td>\n",
       "    </tr>\n",
       "  </tbody>\n",
       "</table>\n",
       "</div>"
      ],
      "text/plain": [
       "       Account length  Number vmail messages  Total day minutes  \\\n",
       "count     3333.000000            3333.000000        3333.000000   \n",
       "mean       101.064806               8.099010         179.775098   \n",
       "std         39.822106              13.688365          54.467389   \n",
       "min          1.000000               0.000000           0.000000   \n",
       "25%         74.000000               0.000000         143.700000   \n",
       "50%        101.000000               0.000000         179.400000   \n",
       "75%        127.000000              20.000000         216.400000   \n",
       "max        243.000000              51.000000         350.800000   \n",
       "\n",
       "       Total day calls  Total day charge  Total eve minutes  Total eve calls  \\\n",
       "count      3333.000000       3333.000000        3333.000000      3333.000000   \n",
       "mean        100.435644         30.562307         200.980348       100.114311   \n",
       "std          20.069084          9.259435          50.713844        19.922625   \n",
       "min           0.000000          0.000000           0.000000         0.000000   \n",
       "25%          87.000000         24.430000         166.600000        87.000000   \n",
       "50%         101.000000         30.500000         201.400000       100.000000   \n",
       "75%         114.000000         36.790000         235.300000       114.000000   \n",
       "max         165.000000         59.640000         363.700000       170.000000   \n",
       "\n",
       "       Total eve charge  Total night minutes  Total night calls  \\\n",
       "count       3333.000000          3333.000000        3333.000000   \n",
       "mean          17.083540           200.872037         100.107711   \n",
       "std            4.310668            50.573847          19.568609   \n",
       "min            0.000000            23.200000          33.000000   \n",
       "25%           14.160000           167.000000          87.000000   \n",
       "50%           17.120000           201.200000         100.000000   \n",
       "75%           20.000000           235.300000         113.000000   \n",
       "max           30.910000           395.000000         175.000000   \n",
       "\n",
       "       Total night charge  Total intl minutes  Total intl calls  \\\n",
       "count         3333.000000         3333.000000       3333.000000   \n",
       "mean             9.039325           10.237294          4.479448   \n",
       "std              2.275873            2.791840          2.461214   \n",
       "min              1.040000            0.000000          0.000000   \n",
       "25%              7.520000            8.500000          3.000000   \n",
       "50%              9.050000           10.300000          4.000000   \n",
       "75%             10.590000           12.100000          6.000000   \n",
       "max             17.770000           20.000000         20.000000   \n",
       "\n",
       "       Total intl charge  Customer service calls  \n",
       "count        3333.000000             3333.000000  \n",
       "mean            2.764581                1.562856  \n",
       "std             0.753773                1.315491  \n",
       "min             0.000000                0.000000  \n",
       "25%             2.300000                1.000000  \n",
       "50%             2.780000                1.000000  \n",
       "75%             3.270000                2.000000  \n",
       "max             5.400000                9.000000  "
      ]
     },
     "execution_count": 13,
     "metadata": {},
     "output_type": "execute_result"
    }
   ],
   "source": [
    "telecom.describe()"
   ]
  },
  {
   "cell_type": "markdown",
   "id": "ac35a934",
   "metadata": {},
   "source": [
    "- It shows only the numerical features from our records."
   ]
  },
  {
   "cell_type": "code",
   "execution_count": 14,
   "id": "4e97eeb1",
   "metadata": {},
   "outputs": [
    {
     "data": {
      "text/plain": [
       "False    2850\n",
       "True      483\n",
       "Name: Churn, dtype: int64"
      ]
     },
     "execution_count": 14,
     "metadata": {},
     "output_type": "execute_result"
    }
   ],
   "source": [
    "telecom['Churn'].value_counts()"
   ]
  },
  {
   "cell_type": "markdown",
   "id": "f0fde673",
   "metadata": {},
   "source": [
    "- In our case the data is not balanced i.e. our two target classes, loyal and disloyal customers, are not represented equally in the dataset.\n",
    "- Only a small part of the clients canceled their subscription to the telecom service.\n",
    "- we may want to additionally penalize our model errors in predicting the minority \"Churn\" class."
   ]
  },
  {
   "cell_type": "code",
   "execution_count": 15,
   "id": "7848f6f9",
   "metadata": {},
   "outputs": [
    {
     "data": {
      "text/plain": [
       "<AxesSubplot:xlabel='Churn', ylabel='count'>"
      ]
     },
     "execution_count": 15,
     "metadata": {},
     "output_type": "execute_result"
    },
    {
     "data": {
      "image/png": "[encoded data removed]",
      "text/plain": [
       "<Figure size 432x288 with 1 Axes>"
      ]
     },
     "metadata": {
      "needs_background": "light"
     },
     "output_type": "display_data"
    }
   ],
   "source": [
    "sns.countplot(x=\"Churn\", data=telecom)"
   ]
  },
  {
   "cell_type": "markdown",
   "id": "3b376d57",
   "metadata": {},
   "source": [
    "- This chart illustrates the imbalance in our target variable"
   ]
  },
  {
   "cell_type": "code",
   "execution_count": 16,
   "id": "55dd52cd",
   "metadata": {},
   "outputs": [
    {
     "data": {
      "text/plain": [
       "<AxesSubplot:xlabel='Customer service calls', ylabel='count'>"
      ]
     },
     "execution_count": 16,
     "metadata": {},
     "output_type": "execute_result"
    },
    {
     "data": {
      "image/png": "[encoded data removed]",
      "text/plain": [
       "<Figure size 432x288 with 1 Axes>"
      ]
     },
     "metadata": {
      "needs_background": "light"
     },
     "output_type": "display_data"
    }
   ],
   "source": [
    "sns.countplot(x=\"Customer service calls\", data=telecom)"
   ]
  },
  {
   "cell_type": "markdown",
   "id": "d154dd5d",
   "metadata": {},
   "source": [
    "- The bar plot for Customer service calls gives a hint that the majority of customers resolve their problems in maximum 2-3 calls.\n",
    "- The tail of that bar plot contains most of our churn."
   ]
  },
  {
   "cell_type": "code",
   "execution_count": 17,
   "id": "227d8a9f",
   "metadata": {},
   "outputs": [
    {
     "data": {
      "text/plain": [
       "Text(0.5, 1.0, 'Correlation Matrix Of Telecom Customers')"
      ]
     },
     "execution_count": 17,
     "metadata": {},
     "output_type": "execute_result"
    },
    {
     "data": {
      "image/png": "[encoded data removed]",
      "text/plain": [
       "<Figure size 1080x1080 with 2 Axes>"
      ]
     },
     "metadata": {
      "needs_background": "light"
     },
     "output_type": "display_data"
    }
   ],
   "source": [
    "plt.figure(figsize=(15, 15))\n",
    "sns.heatmap(telecom.corr(), annot=True, linewidths=1, fmt='.2f')\n",
    "plt.title('Correlation Matrix Of Telecom Customers', fontsize=20)"
   ]
  },
  {
   "cell_type": "markdown",
   "id": "a119705a",
   "metadata": {},
   "source": [
    "- From this visualization we come up with that **Total day minutes and Total day charge are highly correlated.**\n",
    "- **Total eve minutes and Total eve charge are also highly correlated.**\n",
    "- **Total night minutes and Total night charge are also highly correlated.**\n",
    "- **Total intl minutes and Total intl charge are also highly correlated.**\n",
    "- And somehow we can say that **Customer service calls are also the reason for churn.**\n",
    "- **Total day minutes and Total day charge are quite correlated with churn so this will also get impacted for customer churn.**"
   ]
  },
  {
   "cell_type": "code",
   "execution_count": 18,
   "id": "20799fea",
   "metadata": {},
   "outputs": [
    {
     "data": {
      "text/plain": [
       "<seaborn.axisgrid.JointGrid at 0x1f2acd28f40>"
      ]
     },
     "execution_count": 18,
     "metadata": {},
     "output_type": "execute_result"
    },
    {
     "data": {
      "image/png": "[encoded data removed]",
      "text/plain": [
       "<Figure size 432x432 with 3 Axes>"
      ]
     },
     "metadata": {
      "needs_background": "light"
     },
     "output_type": "display_data"
    }
   ],
   "source": [
    "sns.jointplot(x=\"Total day minutes\", y=\"Total night minutes\", data=telecom, kind=\"scatter\")"
   ]
  },
  {
   "cell_type": "code",
   "execution_count": 19,
   "id": "142abdbd",
   "metadata": {},
   "outputs": [
    {
     "data": {
      "text/plain": [
       "<seaborn.axisgrid.FacetGrid at 0x1f2ad53d7f0>"
      ]
     },
     "execution_count": 19,
     "metadata": {},
     "output_type": "execute_result"
    },
    {
     "data": {
      "image/png": "[encoded data removed]",
      "text/plain": [
       "<Figure size 421.25x360 with 1 Axes>"
      ]
     },
     "metadata": {
      "needs_background": "light"
     },
     "output_type": "display_data"
    }
   ],
   "source": [
    "sns.lmplot(\"Total day minutes\", \"Total night minutes\", data=telecom, hue=\"Churn\", fit_reg=False)"
   ]
  },
  {
   "cell_type": "markdown",
   "id": "d0b6d239",
   "metadata": {},
   "source": [
    "- It seems that our small portion of disloyal customers lean towards the top-right corner that is, such customers tend to spend more time on the phone during both day and night.\n",
    "- Also while noticing the chart it shows that Total day minutes in between **100-325 the churn rate is more.** \n",
    "- And similarly for Total night minutes it varies in between some around **125-300 the churn rate is more.**"
   ]
  },
  {
   "cell_type": "code",
   "execution_count": 20,
   "id": "ba3cdd73",
   "metadata": {},
   "outputs": [
    {
     "data": {
      "text/plain": [
       "<AxesSubplot:xlabel='Churn', ylabel='Total day minutes'>"
      ]
     },
     "execution_count": 20,
     "metadata": {},
     "output_type": "execute_result"
    },
    {
     "data": {
      "image/png": "[encoded data removed]",
      "text/plain": [
       "<Figure size 432x288 with 1 Axes>"
      ]
     },
     "metadata": {
      "needs_background": "light"
     },
     "output_type": "display_data"
    }
   ],
   "source": [
    "sns.boxplot(x=\"Churn\", y=\"Total day minutes\", data=telecom)"
   ]
  },
  {
   "cell_type": "markdown",
   "id": "a47ec346",
   "metadata": {},
   "source": [
    "- From this boxplot everything is clear that disloyal customers tends to talk on the phone more than loyal customers.\n",
    "\n",
    "\n",
    "\n",
    "\n",
    "- **An interesting observation** : On average, *customers that discontinue their contracts are more active users of communication services. Perhaps they are unhappy with the tariffs, so a possible measure to prevent churn could be a reduction in call rates. The company will need to undertake additional economic analysis to find out whether such measures would be beneficial.*"
   ]
  },
  {
   "cell_type": "code",
   "execution_count": 22,
   "id": "2cc92dc6",
   "metadata": {},
   "outputs": [
    {
     "data": {
      "text/plain": [
       "<seaborn.axisgrid.FacetGrid at 0x1f2aeb99fd0>"
      ]
     },
     "execution_count": 22,
     "metadata": {},
     "output_type": "execute_result"
    },
    {
     "data": {
      "image/png": "[encoded data removed]",
      "text/plain": [
       "<Figure size 691.2x432 with 8 Axes>"
      ]
     },
     "metadata": {
      "needs_background": "light"
     },
     "output_type": "display_data"
    }
   ],
   "source": [
    "sns.catplot(x=\"Churn\", y=\"Total day minutes\", col=\"Customer service calls\", data=telecom[telecom[\"Customer service calls\"] < 8], kind=\"box\", col_wrap=4, height=3, aspect=0.8)"
   ]
  },
  {
   "cell_type": "markdown",
   "id": "d8b13c8b",
   "metadata": {},
   "source": [
    "- From this, we could conclude that **starting with 4 calls Total day minutes may no longer be the main factor for customer churn**. Perhaps in addition to our previous guess about the tariffs, **there are customers that are dissatisfied with the service due to other problems, which might lead to fewer number of day minutes spent on calls.**"
   ]
  },
  {
   "cell_type": "code",
   "execution_count": 23,
   "id": "4298cc35",
   "metadata": {},
   "outputs": [
    {
     "data": {
      "text/plain": [
       "<AxesSubplot:xlabel='Customer service calls', ylabel='count'>"
      ]
     },
     "execution_count": 23,
     "metadata": {},
     "output_type": "execute_result"
    },
    {
     "data": {
      "image/png": "[encoded data removed]",
      "text/plain": [
       "<Figure size 432x288 with 1 Axes>"
      ]
     },
     "metadata": {
      "needs_background": "light"
     },
     "output_type": "display_data"
    }
   ],
   "source": [
    "sns.countplot(x=\"Customer service calls\", hue=\"Churn\", data=telecom)"
   ]
  },
  {
   "cell_type": "markdown",
   "id": "28ac65a1",
   "metadata": {},
   "source": [
    "- **An observation** : The churn rate increases significantly after 4 or more calls to customer service."
   ]
  },
  {
   "cell_type": "code",
   "execution_count": 24,
   "id": "bbe697a2",
   "metadata": {},
   "outputs": [
    {
     "data": {
      "text/plain": [
       "<AxesSubplot:xlabel='Voice mail plan', ylabel='count'>"
      ]
     },
     "execution_count": 24,
     "metadata": {},
     "output_type": "execute_result"
    },
    {
     "data": {
      "image/png": "[encoded data removed]",
      "text/plain": [
       "<Figure size 720x288 with 2 Axes>"
      ]
     },
     "metadata": {
      "needs_background": "light"
     },
     "output_type": "display_data"
    }
   ],
   "source": [
    "_, axes = plt.subplots(1, 2, sharey=True, figsize=(10, 4))\n",
    "\n",
    "sns.countplot(x=\"International plan\", hue=\"Churn\", data=telecom, ax=axes[0])\n",
    "sns.countplot(x=\"Voice mail plan\", hue=\"Churn\", data=telecom, ax=axes[1])"
   ]
  },
  {
   "cell_type": "markdown",
   "id": "71acd8bd",
   "metadata": {},
   "source": [
    "- **An observation**: when *International Plan* is enabled, **the churn rate is much higher** the usage of the *international plan* by the customer is a strong feature. We do not observe the same effect with *Voice mail plan.*"
   ]
  },
  {
   "cell_type": "code",
   "execution_count": 25,
   "id": "d2e5b0ab",
   "metadata": {},
   "outputs": [],
   "source": [
    "telecom['International plan'] = telecom['International plan'].map({'Yes':1, 'No':0})\n",
    "telecom['Voice mail plan'] = telecom['Voice mail plan'].map({'Yes':1, 'No':0})"
   ]
  },
  {
   "cell_type": "code",
   "execution_count": 26,
   "id": "e6a278c9",
   "metadata": {},
   "outputs": [],
   "source": [
    "telecom['Churn'] = telecom['Churn'].map({False:1, True:0})"
   ]
  },
  {
   "cell_type": "code",
   "execution_count": 27,
   "id": "cd1a64e1",
   "metadata": {},
   "outputs": [
    {
     "data": {
      "text/html": [
       "<div>\n",
       "<style scoped>\n",
       "    .dataframe tbody tr th:only-of-type {\n",
       "        vertical-align: middle;\n",
       "    }\n",
       "\n",
       "    .dataframe tbody tr th {\n",
       "        vertical-align: top;\n",
       "    }\n",
       "\n",
       "    .dataframe thead th {\n",
       "        text-align: right;\n",
       "    }\n",
       "</style>\n",
       "<table border=\"1\" class=\"dataframe\">\n",
       "  <thead>\n",
       "    <tr style=\"text-align: right;\">\n",
       "      <th></th>\n",
       "      <th>Account length</th>\n",
       "      <th>International plan</th>\n",
       "      <th>Voice mail plan</th>\n",
       "      <th>Number vmail messages</th>\n",
       "      <th>Total day minutes</th>\n",
       "      <th>Total day calls</th>\n",
       "      <th>Total day charge</th>\n",
       "      <th>Total eve minutes</th>\n",
       "      <th>Total eve calls</th>\n",
       "      <th>Total eve charge</th>\n",
       "      <th>Total night minutes</th>\n",
       "      <th>Total night calls</th>\n",
       "      <th>Total night charge</th>\n",
       "      <th>Total intl minutes</th>\n",
       "      <th>Total intl calls</th>\n",
       "      <th>Total intl charge</th>\n",
       "      <th>Customer service calls</th>\n",
       "      <th>Churn</th>\n",
       "    </tr>\n",
       "  </thead>\n",
       "  <tbody>\n",
       "    <tr>\n",
       "      <th>0</th>\n",
       "      <td>128</td>\n",
       "      <td>0</td>\n",
       "      <td>1</td>\n",
       "      <td>25</td>\n",
       "      <td>265.1</td>\n",
       "      <td>110</td>\n",
       "      <td>45.07</td>\n",
       "      <td>197.4</td>\n",
       "      <td>99</td>\n",
       "      <td>16.78</td>\n",
       "      <td>244.7</td>\n",
       "      <td>91</td>\n",
       "      <td>11.01</td>\n",
       "      <td>10.0</td>\n",
       "      <td>3</td>\n",
       "      <td>2.70</td>\n",
       "      <td>1</td>\n",
       "      <td>1</td>\n",
       "    </tr>\n",
       "    <tr>\n",
       "      <th>1</th>\n",
       "      <td>107</td>\n",
       "      <td>0</td>\n",
       "      <td>1</td>\n",
       "      <td>26</td>\n",
       "      <td>161.6</td>\n",
       "      <td>123</td>\n",
       "      <td>27.47</td>\n",
       "      <td>195.5</td>\n",
       "      <td>103</td>\n",
       "      <td>16.62</td>\n",
       "      <td>254.4</td>\n",
       "      <td>103</td>\n",
       "      <td>11.45</td>\n",
       "      <td>13.7</td>\n",
       "      <td>3</td>\n",
       "      <td>3.70</td>\n",
       "      <td>1</td>\n",
       "      <td>1</td>\n",
       "    </tr>\n",
       "    <tr>\n",
       "      <th>2</th>\n",
       "      <td>137</td>\n",
       "      <td>0</td>\n",
       "      <td>0</td>\n",
       "      <td>0</td>\n",
       "      <td>243.4</td>\n",
       "      <td>114</td>\n",
       "      <td>41.38</td>\n",
       "      <td>121.2</td>\n",
       "      <td>110</td>\n",
       "      <td>10.30</td>\n",
       "      <td>162.6</td>\n",
       "      <td>104</td>\n",
       "      <td>7.32</td>\n",
       "      <td>12.2</td>\n",
       "      <td>5</td>\n",
       "      <td>3.29</td>\n",
       "      <td>0</td>\n",
       "      <td>1</td>\n",
       "    </tr>\n",
       "    <tr>\n",
       "      <th>3</th>\n",
       "      <td>84</td>\n",
       "      <td>1</td>\n",
       "      <td>0</td>\n",
       "      <td>0</td>\n",
       "      <td>299.4</td>\n",
       "      <td>71</td>\n",
       "      <td>50.90</td>\n",
       "      <td>61.9</td>\n",
       "      <td>88</td>\n",
       "      <td>5.26</td>\n",
       "      <td>196.9</td>\n",
       "      <td>89</td>\n",
       "      <td>8.86</td>\n",
       "      <td>6.6</td>\n",
       "      <td>7</td>\n",
       "      <td>1.78</td>\n",
       "      <td>2</td>\n",
       "      <td>1</td>\n",
       "    </tr>\n",
       "    <tr>\n",
       "      <th>4</th>\n",
       "      <td>75</td>\n",
       "      <td>1</td>\n",
       "      <td>0</td>\n",
       "      <td>0</td>\n",
       "      <td>166.7</td>\n",
       "      <td>113</td>\n",
       "      <td>28.34</td>\n",
       "      <td>148.3</td>\n",
       "      <td>122</td>\n",
       "      <td>12.61</td>\n",
       "      <td>186.9</td>\n",
       "      <td>121</td>\n",
       "      <td>8.41</td>\n",
       "      <td>10.1</td>\n",
       "      <td>3</td>\n",
       "      <td>2.73</td>\n",
       "      <td>3</td>\n",
       "      <td>1</td>\n",
       "    </tr>\n",
       "  </tbody>\n",
       "</table>\n",
       "</div>"
      ],
      "text/plain": [
       "   Account length  International plan  Voice mail plan  Number vmail messages  \\\n",
       "0             128                   0                1                     25   \n",
       "1             107                   0                1                     26   \n",
       "2             137                   0                0                      0   \n",
       "3              84                   1                0                      0   \n",
       "4              75                   1                0                      0   \n",
       "\n",
       "   Total day minutes  Total day calls  Total day charge  Total eve minutes  \\\n",
       "0              265.1              110             45.07              197.4   \n",
       "1              161.6              123             27.47              195.5   \n",
       "2              243.4              114             41.38              121.2   \n",
       "3              299.4               71             50.90               61.9   \n",
       "4              166.7              113             28.34              148.3   \n",
       "\n",
       "   Total eve calls  Total eve charge  Total night minutes  Total night calls  \\\n",
       "0               99             16.78                244.7                 91   \n",
       "1              103             16.62                254.4                103   \n",
       "2              110             10.30                162.6                104   \n",
       "3               88              5.26                196.9                 89   \n",
       "4              122             12.61                186.9                121   \n",
       "\n",
       "   Total night charge  Total intl minutes  Total intl calls  \\\n",
       "0               11.01                10.0                 3   \n",
       "1               11.45                13.7                 3   \n",
       "2                7.32                12.2                 5   \n",
       "3                8.86                 6.6                 7   \n",
       "4                8.41                10.1                 3   \n",
       "\n",
       "   Total intl charge  Customer service calls  Churn  \n",
       "0               2.70                       1      1  \n",
       "1               3.70                       1      1  \n",
       "2               3.29                       0      1  \n",
       "3               1.78                       2      1  \n",
       "4               2.73                       3      1  "
      ]
     },
     "execution_count": 27,
     "metadata": {},
     "output_type": "execute_result"
    }
   ],
   "source": [
    "telecom.head()"
   ]
  },
  {
   "cell_type": "markdown",
   "id": "0849044b",
   "metadata": {},
   "source": [
    "### Feature Scaling\n",
    "\n",
    "- We have to scale down the features in between 0-1. Because we cannot give this type of numerical values to our model.\n",
    "- It may became a big blunder.\n",
    "- To scale down we will be using standardization method."
   ]
  },
  {
   "cell_type": "code",
   "execution_count": 28,
   "id": "2ed3ccfe",
   "metadata": {},
   "outputs": [
    {
     "data": {
      "text/html": [
       "<div>\n",
       "<style scoped>\n",
       "    .dataframe tbody tr th:only-of-type {\n",
       "        vertical-align: middle;\n",
       "    }\n",
       "\n",
       "    .dataframe tbody tr th {\n",
       "        vertical-align: top;\n",
       "    }\n",
       "\n",
       "    .dataframe thead th {\n",
       "        text-align: right;\n",
       "    }\n",
       "</style>\n",
       "<table border=\"1\" class=\"dataframe\">\n",
       "  <thead>\n",
       "    <tr style=\"text-align: right;\">\n",
       "      <th></th>\n",
       "      <th>Account length</th>\n",
       "      <th>International plan</th>\n",
       "      <th>Voice mail plan</th>\n",
       "      <th>Number vmail messages</th>\n",
       "      <th>Total day minutes</th>\n",
       "      <th>Total day calls</th>\n",
       "      <th>Total day charge</th>\n",
       "      <th>Total eve minutes</th>\n",
       "      <th>Total eve calls</th>\n",
       "      <th>Total eve charge</th>\n",
       "      <th>Total night minutes</th>\n",
       "      <th>Total night calls</th>\n",
       "      <th>Total night charge</th>\n",
       "      <th>Total intl minutes</th>\n",
       "      <th>Total intl calls</th>\n",
       "      <th>Total intl charge</th>\n",
       "      <th>Customer service calls</th>\n",
       "    </tr>\n",
       "  </thead>\n",
       "  <tbody>\n",
       "    <tr>\n",
       "      <th>0</th>\n",
       "      <td>0.676489</td>\n",
       "      <td>-0.327580</td>\n",
       "      <td>1.617086</td>\n",
       "      <td>1.234883</td>\n",
       "      <td>1.566767</td>\n",
       "      <td>0.476643</td>\n",
       "      <td>1.567036</td>\n",
       "      <td>-0.070610</td>\n",
       "      <td>-0.055940</td>\n",
       "      <td>-0.070427</td>\n",
       "      <td>0.866743</td>\n",
       "      <td>-0.465494</td>\n",
       "      <td>0.866029</td>\n",
       "      <td>-0.085008</td>\n",
       "      <td>-0.601195</td>\n",
       "      <td>-0.085690</td>\n",
       "      <td>-0.427932</td>\n",
       "    </tr>\n",
       "    <tr>\n",
       "      <th>1</th>\n",
       "      <td>0.149065</td>\n",
       "      <td>-0.327580</td>\n",
       "      <td>1.617086</td>\n",
       "      <td>1.307948</td>\n",
       "      <td>-0.333738</td>\n",
       "      <td>1.124503</td>\n",
       "      <td>-0.334013</td>\n",
       "      <td>-0.108080</td>\n",
       "      <td>0.144867</td>\n",
       "      <td>-0.107549</td>\n",
       "      <td>1.058571</td>\n",
       "      <td>0.147825</td>\n",
       "      <td>1.059390</td>\n",
       "      <td>1.240482</td>\n",
       "      <td>-0.601195</td>\n",
       "      <td>1.241169</td>\n",
       "      <td>-0.427932</td>\n",
       "    </tr>\n",
       "    <tr>\n",
       "      <th>2</th>\n",
       "      <td>0.902529</td>\n",
       "      <td>-0.327580</td>\n",
       "      <td>-0.618396</td>\n",
       "      <td>-0.591760</td>\n",
       "      <td>1.168304</td>\n",
       "      <td>0.675985</td>\n",
       "      <td>1.168464</td>\n",
       "      <td>-1.573383</td>\n",
       "      <td>0.496279</td>\n",
       "      <td>-1.573900</td>\n",
       "      <td>-0.756869</td>\n",
       "      <td>0.198935</td>\n",
       "      <td>-0.755571</td>\n",
       "      <td>0.703121</td>\n",
       "      <td>0.211534</td>\n",
       "      <td>0.697156</td>\n",
       "      <td>-1.188218</td>\n",
       "    </tr>\n",
       "    <tr>\n",
       "      <th>3</th>\n",
       "      <td>-0.428590</td>\n",
       "      <td>3.052685</td>\n",
       "      <td>-0.618396</td>\n",
       "      <td>-0.591760</td>\n",
       "      <td>2.196596</td>\n",
       "      <td>-1.466936</td>\n",
       "      <td>2.196759</td>\n",
       "      <td>-2.742865</td>\n",
       "      <td>-0.608159</td>\n",
       "      <td>-2.743268</td>\n",
       "      <td>-0.078551</td>\n",
       "      <td>-0.567714</td>\n",
       "      <td>-0.078806</td>\n",
       "      <td>-1.303026</td>\n",
       "      <td>1.024263</td>\n",
       "      <td>-1.306401</td>\n",
       "      <td>0.332354</td>\n",
       "    </tr>\n",
       "    <tr>\n",
       "      <th>4</th>\n",
       "      <td>-0.654629</td>\n",
       "      <td>3.052685</td>\n",
       "      <td>-0.618396</td>\n",
       "      <td>-0.591760</td>\n",
       "      <td>-0.240090</td>\n",
       "      <td>0.626149</td>\n",
       "      <td>-0.240041</td>\n",
       "      <td>-1.038932</td>\n",
       "      <td>1.098699</td>\n",
       "      <td>-1.037939</td>\n",
       "      <td>-0.276311</td>\n",
       "      <td>1.067803</td>\n",
       "      <td>-0.276562</td>\n",
       "      <td>-0.049184</td>\n",
       "      <td>-0.601195</td>\n",
       "      <td>-0.045885</td>\n",
       "      <td>1.092641</td>\n",
       "    </tr>\n",
       "    <tr>\n",
       "      <th>...</th>\n",
       "      <td>...</td>\n",
       "      <td>...</td>\n",
       "      <td>...</td>\n",
       "      <td>...</td>\n",
       "      <td>...</td>\n",
       "      <td>...</td>\n",
       "      <td>...</td>\n",
       "      <td>...</td>\n",
       "      <td>...</td>\n",
       "      <td>...</td>\n",
       "      <td>...</td>\n",
       "      <td>...</td>\n",
       "      <td>...</td>\n",
       "      <td>...</td>\n",
       "      <td>...</td>\n",
       "      <td>...</td>\n",
       "      <td>...</td>\n",
       "    </tr>\n",
       "    <tr>\n",
       "      <th>3328</th>\n",
       "      <td>2.283878</td>\n",
       "      <td>-0.327580</td>\n",
       "      <td>1.617086</td>\n",
       "      <td>2.038605</td>\n",
       "      <td>-0.432895</td>\n",
       "      <td>-1.167924</td>\n",
       "      <td>-0.433386</td>\n",
       "      <td>0.286348</td>\n",
       "      <td>1.299506</td>\n",
       "      <td>0.286880</td>\n",
       "      <td>1.547039</td>\n",
       "      <td>-0.874374</td>\n",
       "      <td>1.547188</td>\n",
       "      <td>-0.120832</td>\n",
       "      <td>0.617898</td>\n",
       "      <td>-0.125496</td>\n",
       "      <td>0.332354</td>\n",
       "    </tr>\n",
       "    <tr>\n",
       "      <th>3329</th>\n",
       "      <td>-0.830437</td>\n",
       "      <td>-0.327580</td>\n",
       "      <td>-0.618396</td>\n",
       "      <td>-0.591760</td>\n",
       "      <td>0.942447</td>\n",
       "      <td>-2.164631</td>\n",
       "      <td>0.942714</td>\n",
       "      <td>-0.938353</td>\n",
       "      <td>-2.264816</td>\n",
       "      <td>-0.938172</td>\n",
       "      <td>-0.189297</td>\n",
       "      <td>1.170023</td>\n",
       "      <td>-0.188670</td>\n",
       "      <td>-0.228304</td>\n",
       "      <td>-0.194831</td>\n",
       "      <td>-0.231645</td>\n",
       "      <td>1.092641</td>\n",
       "    </tr>\n",
       "    <tr>\n",
       "      <th>3330</th>\n",
       "      <td>-1.835055</td>\n",
       "      <td>-0.327580</td>\n",
       "      <td>-0.618396</td>\n",
       "      <td>-0.591760</td>\n",
       "      <td>0.018820</td>\n",
       "      <td>0.426808</td>\n",
       "      <td>0.019193</td>\n",
       "      <td>1.731930</td>\n",
       "      <td>-2.114211</td>\n",
       "      <td>1.732349</td>\n",
       "      <td>-0.177431</td>\n",
       "      <td>-0.465494</td>\n",
       "      <td>-0.175486</td>\n",
       "      <td>1.383778</td>\n",
       "      <td>0.617898</td>\n",
       "      <td>1.387123</td>\n",
       "      <td>0.332354</td>\n",
       "    </tr>\n",
       "    <tr>\n",
       "      <th>3331</th>\n",
       "      <td>2.082955</td>\n",
       "      <td>3.052685</td>\n",
       "      <td>-0.618396</td>\n",
       "      <td>-0.591760</td>\n",
       "      <td>0.624778</td>\n",
       "      <td>0.227466</td>\n",
       "      <td>0.625153</td>\n",
       "      <td>-0.816080</td>\n",
       "      <td>-0.808966</td>\n",
       "      <td>-0.815203</td>\n",
       "      <td>-1.219628</td>\n",
       "      <td>1.885562</td>\n",
       "      <td>-1.221396</td>\n",
       "      <td>-1.876211</td>\n",
       "      <td>2.243356</td>\n",
       "      <td>-1.876950</td>\n",
       "      <td>0.332354</td>\n",
       "    </tr>\n",
       "    <tr>\n",
       "      <th>3332</th>\n",
       "      <td>-0.679745</td>\n",
       "      <td>-0.327580</td>\n",
       "      <td>1.617086</td>\n",
       "      <td>1.234883</td>\n",
       "      <td>1.003042</td>\n",
       "      <td>0.626149</td>\n",
       "      <td>1.003202</td>\n",
       "      <td>1.280309</td>\n",
       "      <td>-0.909370</td>\n",
       "      <td>1.279915</td>\n",
       "      <td>0.801482</td>\n",
       "      <td>-1.181033</td>\n",
       "      <td>0.800110</td>\n",
       "      <td>1.240482</td>\n",
       "      <td>-0.194831</td>\n",
       "      <td>1.241169</td>\n",
       "      <td>-1.188218</td>\n",
       "    </tr>\n",
       "  </tbody>\n",
       "</table>\n",
       "<p>3333 rows × 17 columns</p>\n",
       "</div>"
      ],
      "text/plain": [
       "      Account length  International plan  Voice mail plan  \\\n",
       "0           0.676489           -0.327580         1.617086   \n",
       "1           0.149065           -0.327580         1.617086   \n",
       "2           0.902529           -0.327580        -0.618396   \n",
       "3          -0.428590            3.052685        -0.618396   \n",
       "4          -0.654629            3.052685        -0.618396   \n",
       "...              ...                 ...              ...   \n",
       "3328        2.283878           -0.327580         1.617086   \n",
       "3329       -0.830437           -0.327580        -0.618396   \n",
       "3330       -1.835055           -0.327580        -0.618396   \n",
       "3331        2.082955            3.052685        -0.618396   \n",
       "3332       -0.679745           -0.327580         1.617086   \n",
       "\n",
       "      Number vmail messages  Total day minutes  Total day calls  \\\n",
       "0                  1.234883           1.566767         0.476643   \n",
       "1                  1.307948          -0.333738         1.124503   \n",
       "2                 -0.591760           1.168304         0.675985   \n",
       "3                 -0.591760           2.196596        -1.466936   \n",
       "4                 -0.591760          -0.240090         0.626149   \n",
       "...                     ...                ...              ...   \n",
       "3328               2.038605          -0.432895        -1.167924   \n",
       "3329              -0.591760           0.942447        -2.164631   \n",
       "3330              -0.591760           0.018820         0.426808   \n",
       "3331              -0.591760           0.624778         0.227466   \n",
       "3332               1.234883           1.003042         0.626149   \n",
       "\n",
       "      Total day charge  Total eve minutes  Total eve calls  Total eve charge  \\\n",
       "0             1.567036          -0.070610        -0.055940         -0.070427   \n",
       "1            -0.334013          -0.108080         0.144867         -0.107549   \n",
       "2             1.168464          -1.573383         0.496279         -1.573900   \n",
       "3             2.196759          -2.742865        -0.608159         -2.743268   \n",
       "4            -0.240041          -1.038932         1.098699         -1.037939   \n",
       "...                ...                ...              ...               ...   \n",
       "3328         -0.433386           0.286348         1.299506          0.286880   \n",
       "3329          0.942714          -0.938353        -2.264816         -0.938172   \n",
       "3330          0.019193           1.731930        -2.114211          1.732349   \n",
       "3331          0.625153          -0.816080        -0.808966         -0.815203   \n",
       "3332          1.003202           1.280309        -0.909370          1.279915   \n",
       "\n",
       "      Total night minutes  Total night calls  Total night charge  \\\n",
       "0                0.866743          -0.465494            0.866029   \n",
       "1                1.058571           0.147825            1.059390   \n",
       "2               -0.756869           0.198935           -0.755571   \n",
       "3               -0.078551          -0.567714           -0.078806   \n",
       "4               -0.276311           1.067803           -0.276562   \n",
       "...                   ...                ...                 ...   \n",
       "3328             1.547039          -0.874374            1.547188   \n",
       "3329            -0.189297           1.170023           -0.188670   \n",
       "3330            -0.177431          -0.465494           -0.175486   \n",
       "3331            -1.219628           1.885562           -1.221396   \n",
       "3332             0.801482          -1.181033            0.800110   \n",
       "\n",
       "      Total intl minutes  Total intl calls  Total intl charge  \\\n",
       "0              -0.085008         -0.601195          -0.085690   \n",
       "1               1.240482         -0.601195           1.241169   \n",
       "2               0.703121          0.211534           0.697156   \n",
       "3              -1.303026          1.024263          -1.306401   \n",
       "4              -0.049184         -0.601195          -0.045885   \n",
       "...                  ...               ...                ...   \n",
       "3328           -0.120832          0.617898          -0.125496   \n",
       "3329           -0.228304         -0.194831          -0.231645   \n",
       "3330            1.383778          0.617898           1.387123   \n",
       "3331           -1.876211          2.243356          -1.876950   \n",
       "3332            1.240482         -0.194831           1.241169   \n",
       "\n",
       "      Customer service calls  \n",
       "0                  -0.427932  \n",
       "1                  -0.427932  \n",
       "2                  -1.188218  \n",
       "3                   0.332354  \n",
       "4                   1.092641  \n",
       "...                      ...  \n",
       "3328                0.332354  \n",
       "3329                1.092641  \n",
       "3330                0.332354  \n",
       "3331                0.332354  \n",
       "3332               -1.188218  \n",
       "\n",
       "[3333 rows x 17 columns]"
      ]
     },
     "execution_count": 28,
     "metadata": {},
     "output_type": "execute_result"
    }
   ],
   "source": [
    "from sklearn.preprocessing import StandardScaler\n",
    "scaler = StandardScaler()\n",
    "X_scaled = scaler.fit_transform(telecom.iloc[:, 0:17])\n",
    "telecom_std = pd.DataFrame(X_scaled, columns=['Account length', \n",
    "                                              'International plan', \n",
    "                                              'Voice mail plan', \n",
    "                                              'Number vmail messages', \n",
    "                                              'Total day minutes', \n",
    "                                              'Total day calls', \n",
    "                                              'Total day charge', \n",
    "                                              'Total eve minutes', \n",
    "                                              'Total eve calls',\n",
    "                                              'Total eve charge',\n",
    "                                              'Total night minutes',\n",
    "                                              'Total night calls',\n",
    "                                              'Total night charge', \n",
    "                                              'Total intl minutes', \n",
    "                                              'Total intl calls', \n",
    "                                              'Total intl charge', \n",
    "                                              'Customer service calls'])\n",
    "telecom_std"
   ]
  },
  {
   "cell_type": "code",
   "execution_count": 29,
   "id": "62a98a48",
   "metadata": {},
   "outputs": [],
   "source": [
    "extracted_col = telecom['Churn']\n",
    "telecom_std = telecom_std.join(extracted_col)"
   ]
  },
  {
   "cell_type": "code",
   "execution_count": 30,
   "id": "1966e65e",
   "metadata": {},
   "outputs": [
    {
     "data": {
      "text/html": [
       "<div>\n",
       "<style scoped>\n",
       "    .dataframe tbody tr th:only-of-type {\n",
       "        vertical-align: middle;\n",
       "    }\n",
       "\n",
       "    .dataframe tbody tr th {\n",
       "        vertical-align: top;\n",
       "    }\n",
       "\n",
       "    .dataframe thead th {\n",
       "        text-align: right;\n",
       "    }\n",
       "</style>\n",
       "<table border=\"1\" class=\"dataframe\">\n",
       "  <thead>\n",
       "    <tr style=\"text-align: right;\">\n",
       "      <th></th>\n",
       "      <th>Account length</th>\n",
       "      <th>International plan</th>\n",
       "      <th>Voice mail plan</th>\n",
       "      <th>Number vmail messages</th>\n",
       "      <th>Total day minutes</th>\n",
       "      <th>Total day calls</th>\n",
       "      <th>Total day charge</th>\n",
       "      <th>Total eve minutes</th>\n",
       "      <th>Total eve calls</th>\n",
       "      <th>Total eve charge</th>\n",
       "      <th>Total night minutes</th>\n",
       "      <th>Total night calls</th>\n",
       "      <th>Total night charge</th>\n",
       "      <th>Total intl minutes</th>\n",
       "      <th>Total intl calls</th>\n",
       "      <th>Total intl charge</th>\n",
       "      <th>Customer service calls</th>\n",
       "      <th>Churn</th>\n",
       "    </tr>\n",
       "  </thead>\n",
       "  <tbody>\n",
       "    <tr>\n",
       "      <th>0</th>\n",
       "      <td>0.676489</td>\n",
       "      <td>-0.327580</td>\n",
       "      <td>1.617086</td>\n",
       "      <td>1.234883</td>\n",
       "      <td>1.566767</td>\n",
       "      <td>0.476643</td>\n",
       "      <td>1.567036</td>\n",
       "      <td>-0.070610</td>\n",
       "      <td>-0.055940</td>\n",
       "      <td>-0.070427</td>\n",
       "      <td>0.866743</td>\n",
       "      <td>-0.465494</td>\n",
       "      <td>0.866029</td>\n",
       "      <td>-0.085008</td>\n",
       "      <td>-0.601195</td>\n",
       "      <td>-0.085690</td>\n",
       "      <td>-0.427932</td>\n",
       "      <td>1</td>\n",
       "    </tr>\n",
       "    <tr>\n",
       "      <th>1</th>\n",
       "      <td>0.149065</td>\n",
       "      <td>-0.327580</td>\n",
       "      <td>1.617086</td>\n",
       "      <td>1.307948</td>\n",
       "      <td>-0.333738</td>\n",
       "      <td>1.124503</td>\n",
       "      <td>-0.334013</td>\n",
       "      <td>-0.108080</td>\n",
       "      <td>0.144867</td>\n",
       "      <td>-0.107549</td>\n",
       "      <td>1.058571</td>\n",
       "      <td>0.147825</td>\n",
       "      <td>1.059390</td>\n",
       "      <td>1.240482</td>\n",
       "      <td>-0.601195</td>\n",
       "      <td>1.241169</td>\n",
       "      <td>-0.427932</td>\n",
       "      <td>1</td>\n",
       "    </tr>\n",
       "    <tr>\n",
       "      <th>2</th>\n",
       "      <td>0.902529</td>\n",
       "      <td>-0.327580</td>\n",
       "      <td>-0.618396</td>\n",
       "      <td>-0.591760</td>\n",
       "      <td>1.168304</td>\n",
       "      <td>0.675985</td>\n",
       "      <td>1.168464</td>\n",
       "      <td>-1.573383</td>\n",
       "      <td>0.496279</td>\n",
       "      <td>-1.573900</td>\n",
       "      <td>-0.756869</td>\n",
       "      <td>0.198935</td>\n",
       "      <td>-0.755571</td>\n",
       "      <td>0.703121</td>\n",
       "      <td>0.211534</td>\n",
       "      <td>0.697156</td>\n",
       "      <td>-1.188218</td>\n",
       "      <td>1</td>\n",
       "    </tr>\n",
       "    <tr>\n",
       "      <th>3</th>\n",
       "      <td>-0.428590</td>\n",
       "      <td>3.052685</td>\n",
       "      <td>-0.618396</td>\n",
       "      <td>-0.591760</td>\n",
       "      <td>2.196596</td>\n",
       "      <td>-1.466936</td>\n",
       "      <td>2.196759</td>\n",
       "      <td>-2.742865</td>\n",
       "      <td>-0.608159</td>\n",
       "      <td>-2.743268</td>\n",
       "      <td>-0.078551</td>\n",
       "      <td>-0.567714</td>\n",
       "      <td>-0.078806</td>\n",
       "      <td>-1.303026</td>\n",
       "      <td>1.024263</td>\n",
       "      <td>-1.306401</td>\n",
       "      <td>0.332354</td>\n",
       "      <td>1</td>\n",
       "    </tr>\n",
       "    <tr>\n",
       "      <th>4</th>\n",
       "      <td>-0.654629</td>\n",
       "      <td>3.052685</td>\n",
       "      <td>-0.618396</td>\n",
       "      <td>-0.591760</td>\n",
       "      <td>-0.240090</td>\n",
       "      <td>0.626149</td>\n",
       "      <td>-0.240041</td>\n",
       "      <td>-1.038932</td>\n",
       "      <td>1.098699</td>\n",
       "      <td>-1.037939</td>\n",
       "      <td>-0.276311</td>\n",
       "      <td>1.067803</td>\n",
       "      <td>-0.276562</td>\n",
       "      <td>-0.049184</td>\n",
       "      <td>-0.601195</td>\n",
       "      <td>-0.045885</td>\n",
       "      <td>1.092641</td>\n",
       "      <td>1</td>\n",
       "    </tr>\n",
       "    <tr>\n",
       "      <th>...</th>\n",
       "      <td>...</td>\n",
       "      <td>...</td>\n",
       "      <td>...</td>\n",
       "      <td>...</td>\n",
       "      <td>...</td>\n",
       "      <td>...</td>\n",
       "      <td>...</td>\n",
       "      <td>...</td>\n",
       "      <td>...</td>\n",
       "      <td>...</td>\n",
       "      <td>...</td>\n",
       "      <td>...</td>\n",
       "      <td>...</td>\n",
       "      <td>...</td>\n",
       "      <td>...</td>\n",
       "      <td>...</td>\n",
       "      <td>...</td>\n",
       "      <td>...</td>\n",
       "    </tr>\n",
       "    <tr>\n",
       "      <th>3328</th>\n",
       "      <td>2.283878</td>\n",
       "      <td>-0.327580</td>\n",
       "      <td>1.617086</td>\n",
       "      <td>2.038605</td>\n",
       "      <td>-0.432895</td>\n",
       "      <td>-1.167924</td>\n",
       "      <td>-0.433386</td>\n",
       "      <td>0.286348</td>\n",
       "      <td>1.299506</td>\n",
       "      <td>0.286880</td>\n",
       "      <td>1.547039</td>\n",
       "      <td>-0.874374</td>\n",
       "      <td>1.547188</td>\n",
       "      <td>-0.120832</td>\n",
       "      <td>0.617898</td>\n",
       "      <td>-0.125496</td>\n",
       "      <td>0.332354</td>\n",
       "      <td>1</td>\n",
       "    </tr>\n",
       "    <tr>\n",
       "      <th>3329</th>\n",
       "      <td>-0.830437</td>\n",
       "      <td>-0.327580</td>\n",
       "      <td>-0.618396</td>\n",
       "      <td>-0.591760</td>\n",
       "      <td>0.942447</td>\n",
       "      <td>-2.164631</td>\n",
       "      <td>0.942714</td>\n",
       "      <td>-0.938353</td>\n",
       "      <td>-2.264816</td>\n",
       "      <td>-0.938172</td>\n",
       "      <td>-0.189297</td>\n",
       "      <td>1.170023</td>\n",
       "      <td>-0.188670</td>\n",
       "      <td>-0.228304</td>\n",
       "      <td>-0.194831</td>\n",
       "      <td>-0.231645</td>\n",
       "      <td>1.092641</td>\n",
       "      <td>1</td>\n",
       "    </tr>\n",
       "    <tr>\n",
       "      <th>3330</th>\n",
       "      <td>-1.835055</td>\n",
       "      <td>-0.327580</td>\n",
       "      <td>-0.618396</td>\n",
       "      <td>-0.591760</td>\n",
       "      <td>0.018820</td>\n",
       "      <td>0.426808</td>\n",
       "      <td>0.019193</td>\n",
       "      <td>1.731930</td>\n",
       "      <td>-2.114211</td>\n",
       "      <td>1.732349</td>\n",
       "      <td>-0.177431</td>\n",
       "      <td>-0.465494</td>\n",
       "      <td>-0.175486</td>\n",
       "      <td>1.383778</td>\n",
       "      <td>0.617898</td>\n",
       "      <td>1.387123</td>\n",
       "      <td>0.332354</td>\n",
       "      <td>1</td>\n",
       "    </tr>\n",
       "    <tr>\n",
       "      <th>3331</th>\n",
       "      <td>2.082955</td>\n",
       "      <td>3.052685</td>\n",
       "      <td>-0.618396</td>\n",
       "      <td>-0.591760</td>\n",
       "      <td>0.624778</td>\n",
       "      <td>0.227466</td>\n",
       "      <td>0.625153</td>\n",
       "      <td>-0.816080</td>\n",
       "      <td>-0.808966</td>\n",
       "      <td>-0.815203</td>\n",
       "      <td>-1.219628</td>\n",
       "      <td>1.885562</td>\n",
       "      <td>-1.221396</td>\n",
       "      <td>-1.876211</td>\n",
       "      <td>2.243356</td>\n",
       "      <td>-1.876950</td>\n",
       "      <td>0.332354</td>\n",
       "      <td>1</td>\n",
       "    </tr>\n",
       "    <tr>\n",
       "      <th>3332</th>\n",
       "      <td>-0.679745</td>\n",
       "      <td>-0.327580</td>\n",
       "      <td>1.617086</td>\n",
       "      <td>1.234883</td>\n",
       "      <td>1.003042</td>\n",
       "      <td>0.626149</td>\n",
       "      <td>1.003202</td>\n",
       "      <td>1.280309</td>\n",
       "      <td>-0.909370</td>\n",
       "      <td>1.279915</td>\n",
       "      <td>0.801482</td>\n",
       "      <td>-1.181033</td>\n",
       "      <td>0.800110</td>\n",
       "      <td>1.240482</td>\n",
       "      <td>-0.194831</td>\n",
       "      <td>1.241169</td>\n",
       "      <td>-1.188218</td>\n",
       "      <td>1</td>\n",
       "    </tr>\n",
       "  </tbody>\n",
       "</table>\n",
       "<p>3333 rows × 18 columns</p>\n",
       "</div>"
      ],
      "text/plain": [
       "      Account length  International plan  Voice mail plan  \\\n",
       "0           0.676489           -0.327580         1.617086   \n",
       "1           0.149065           -0.327580         1.617086   \n",
       "2           0.902529           -0.327580        -0.618396   \n",
       "3          -0.428590            3.052685        -0.618396   \n",
       "4          -0.654629            3.052685        -0.618396   \n",
       "...              ...                 ...              ...   \n",
       "3328        2.283878           -0.327580         1.617086   \n",
       "3329       -0.830437           -0.327580        -0.618396   \n",
       "3330       -1.835055           -0.327580        -0.618396   \n",
       "3331        2.082955            3.052685        -0.618396   \n",
       "3332       -0.679745           -0.327580         1.617086   \n",
       "\n",
       "      Number vmail messages  Total day minutes  Total day calls  \\\n",
       "0                  1.234883           1.566767         0.476643   \n",
       "1                  1.307948          -0.333738         1.124503   \n",
       "2                 -0.591760           1.168304         0.675985   \n",
       "3                 -0.591760           2.196596        -1.466936   \n",
       "4                 -0.591760          -0.240090         0.626149   \n",
       "...                     ...                ...              ...   \n",
       "3328               2.038605          -0.432895        -1.167924   \n",
       "3329              -0.591760           0.942447        -2.164631   \n",
       "3330              -0.591760           0.018820         0.426808   \n",
       "3331              -0.591760           0.624778         0.227466   \n",
       "3332               1.234883           1.003042         0.626149   \n",
       "\n",
       "      Total day charge  Total eve minutes  Total eve calls  Total eve charge  \\\n",
       "0             1.567036          -0.070610        -0.055940         -0.070427   \n",
       "1            -0.334013          -0.108080         0.144867         -0.107549   \n",
       "2             1.168464          -1.573383         0.496279         -1.573900   \n",
       "3             2.196759          -2.742865        -0.608159         -2.743268   \n",
       "4            -0.240041          -1.038932         1.098699         -1.037939   \n",
       "...                ...                ...              ...               ...   \n",
       "3328         -0.433386           0.286348         1.299506          0.286880   \n",
       "3329          0.942714          -0.938353        -2.264816         -0.938172   \n",
       "3330          0.019193           1.731930        -2.114211          1.732349   \n",
       "3331          0.625153          -0.816080        -0.808966         -0.815203   \n",
       "3332          1.003202           1.280309        -0.909370          1.279915   \n",
       "\n",
       "      Total night minutes  Total night calls  Total night charge  \\\n",
       "0                0.866743          -0.465494            0.866029   \n",
       "1                1.058571           0.147825            1.059390   \n",
       "2               -0.756869           0.198935           -0.755571   \n",
       "3               -0.078551          -0.567714           -0.078806   \n",
       "4               -0.276311           1.067803           -0.276562   \n",
       "...                   ...                ...                 ...   \n",
       "3328             1.547039          -0.874374            1.547188   \n",
       "3329            -0.189297           1.170023           -0.188670   \n",
       "3330            -0.177431          -0.465494           -0.175486   \n",
       "3331            -1.219628           1.885562           -1.221396   \n",
       "3332             0.801482          -1.181033            0.800110   \n",
       "\n",
       "      Total intl minutes  Total intl calls  Total intl charge  \\\n",
       "0              -0.085008         -0.601195          -0.085690   \n",
       "1               1.240482         -0.601195           1.241169   \n",
       "2               0.703121          0.211534           0.697156   \n",
       "3              -1.303026          1.024263          -1.306401   \n",
       "4              -0.049184         -0.601195          -0.045885   \n",
       "...                  ...               ...                ...   \n",
       "3328           -0.120832          0.617898          -0.125496   \n",
       "3329           -0.228304         -0.194831          -0.231645   \n",
       "3330            1.383778          0.617898           1.387123   \n",
       "3331           -1.876211          2.243356          -1.876950   \n",
       "3332            1.240482         -0.194831           1.241169   \n",
       "\n",
       "      Customer service calls  Churn  \n",
       "0                  -0.427932      1  \n",
       "1                  -0.427932      1  \n",
       "2                  -1.188218      1  \n",
       "3                   0.332354      1  \n",
       "4                   1.092641      1  \n",
       "...                      ...    ...  \n",
       "3328                0.332354      1  \n",
       "3329                1.092641      1  \n",
       "3330                0.332354      1  \n",
       "3331                0.332354      1  \n",
       "3332               -1.188218      1  \n",
       "\n",
       "[3333 rows x 18 columns]"
      ]
     },
     "execution_count": 30,
     "metadata": {},
     "output_type": "execute_result"
    }
   ],
   "source": [
    "telecom_std"
   ]
  },
  {
   "cell_type": "markdown",
   "id": "c994f0dd",
   "metadata": {},
   "source": [
    "### Train-test split\n",
    "\n",
    "- Before finding accuracy, precision and overall performance of model we have to split the data for train test split i.e.\n",
    "- 70% data should go for training purpose and 30% data should go for testing purpose.\n",
    "- we can split 80-20, 75-25 and 70-30 as per our need."
   ]
  },
  {
   "cell_type": "code",
   "execution_count": 32,
   "id": "b1dd3b9d",
   "metadata": {},
   "outputs": [],
   "source": [
    "X = telecom_std.drop(['Churn'], axis=1)\n",
    "y = telecom_std['Churn']"
   ]
  },
  {
   "cell_type": "code",
   "execution_count": 33,
   "id": "5c4ed94a",
   "metadata": {},
   "outputs": [
    {
     "data": {
      "text/html": [
       "<div>\n",
       "<style scoped>\n",
       "    .dataframe tbody tr th:only-of-type {\n",
       "        vertical-align: middle;\n",
       "    }\n",
       "\n",
       "    .dataframe tbody tr th {\n",
       "        vertical-align: top;\n",
       "    }\n",
       "\n",
       "    .dataframe thead th {\n",
       "        text-align: right;\n",
       "    }\n",
       "</style>\n",
       "<table border=\"1\" class=\"dataframe\">\n",
       "  <thead>\n",
       "    <tr style=\"text-align: right;\">\n",
       "      <th></th>\n",
       "      <th>Account length</th>\n",
       "      <th>International plan</th>\n",
       "      <th>Voice mail plan</th>\n",
       "      <th>Number vmail messages</th>\n",
       "      <th>Total day minutes</th>\n",
       "      <th>Total day calls</th>\n",
       "      <th>Total day charge</th>\n",
       "      <th>Total eve minutes</th>\n",
       "      <th>Total eve calls</th>\n",
       "      <th>Total eve charge</th>\n",
       "      <th>Total night minutes</th>\n",
       "      <th>Total night calls</th>\n",
       "      <th>Total night charge</th>\n",
       "      <th>Total intl minutes</th>\n",
       "      <th>Total intl calls</th>\n",
       "      <th>Total intl charge</th>\n",
       "      <th>Customer service calls</th>\n",
       "    </tr>\n",
       "  </thead>\n",
       "  <tbody>\n",
       "    <tr>\n",
       "      <th>0</th>\n",
       "      <td>0.676489</td>\n",
       "      <td>-0.327580</td>\n",
       "      <td>1.617086</td>\n",
       "      <td>1.234883</td>\n",
       "      <td>1.566767</td>\n",
       "      <td>0.476643</td>\n",
       "      <td>1.567036</td>\n",
       "      <td>-0.070610</td>\n",
       "      <td>-0.055940</td>\n",
       "      <td>-0.070427</td>\n",
       "      <td>0.866743</td>\n",
       "      <td>-0.465494</td>\n",
       "      <td>0.866029</td>\n",
       "      <td>-0.085008</td>\n",
       "      <td>-0.601195</td>\n",
       "      <td>-0.085690</td>\n",
       "      <td>-0.427932</td>\n",
       "    </tr>\n",
       "    <tr>\n",
       "      <th>1</th>\n",
       "      <td>0.149065</td>\n",
       "      <td>-0.327580</td>\n",
       "      <td>1.617086</td>\n",
       "      <td>1.307948</td>\n",
       "      <td>-0.333738</td>\n",
       "      <td>1.124503</td>\n",
       "      <td>-0.334013</td>\n",
       "      <td>-0.108080</td>\n",
       "      <td>0.144867</td>\n",
       "      <td>-0.107549</td>\n",
       "      <td>1.058571</td>\n",
       "      <td>0.147825</td>\n",
       "      <td>1.059390</td>\n",
       "      <td>1.240482</td>\n",
       "      <td>-0.601195</td>\n",
       "      <td>1.241169</td>\n",
       "      <td>-0.427932</td>\n",
       "    </tr>\n",
       "    <tr>\n",
       "      <th>2</th>\n",
       "      <td>0.902529</td>\n",
       "      <td>-0.327580</td>\n",
       "      <td>-0.618396</td>\n",
       "      <td>-0.591760</td>\n",
       "      <td>1.168304</td>\n",
       "      <td>0.675985</td>\n",
       "      <td>1.168464</td>\n",
       "      <td>-1.573383</td>\n",
       "      <td>0.496279</td>\n",
       "      <td>-1.573900</td>\n",
       "      <td>-0.756869</td>\n",
       "      <td>0.198935</td>\n",
       "      <td>-0.755571</td>\n",
       "      <td>0.703121</td>\n",
       "      <td>0.211534</td>\n",
       "      <td>0.697156</td>\n",
       "      <td>-1.188218</td>\n",
       "    </tr>\n",
       "    <tr>\n",
       "      <th>3</th>\n",
       "      <td>-0.428590</td>\n",
       "      <td>3.052685</td>\n",
       "      <td>-0.618396</td>\n",
       "      <td>-0.591760</td>\n",
       "      <td>2.196596</td>\n",
       "      <td>-1.466936</td>\n",
       "      <td>2.196759</td>\n",
       "      <td>-2.742865</td>\n",
       "      <td>-0.608159</td>\n",
       "      <td>-2.743268</td>\n",
       "      <td>-0.078551</td>\n",
       "      <td>-0.567714</td>\n",
       "      <td>-0.078806</td>\n",
       "      <td>-1.303026</td>\n",
       "      <td>1.024263</td>\n",
       "      <td>-1.306401</td>\n",
       "      <td>0.332354</td>\n",
       "    </tr>\n",
       "    <tr>\n",
       "      <th>4</th>\n",
       "      <td>-0.654629</td>\n",
       "      <td>3.052685</td>\n",
       "      <td>-0.618396</td>\n",
       "      <td>-0.591760</td>\n",
       "      <td>-0.240090</td>\n",
       "      <td>0.626149</td>\n",
       "      <td>-0.240041</td>\n",
       "      <td>-1.038932</td>\n",
       "      <td>1.098699</td>\n",
       "      <td>-1.037939</td>\n",
       "      <td>-0.276311</td>\n",
       "      <td>1.067803</td>\n",
       "      <td>-0.276562</td>\n",
       "      <td>-0.049184</td>\n",
       "      <td>-0.601195</td>\n",
       "      <td>-0.045885</td>\n",
       "      <td>1.092641</td>\n",
       "    </tr>\n",
       "    <tr>\n",
       "      <th>...</th>\n",
       "      <td>...</td>\n",
       "      <td>...</td>\n",
       "      <td>...</td>\n",
       "      <td>...</td>\n",
       "      <td>...</td>\n",
       "      <td>...</td>\n",
       "      <td>...</td>\n",
       "      <td>...</td>\n",
       "      <td>...</td>\n",
       "      <td>...</td>\n",
       "      <td>...</td>\n",
       "      <td>...</td>\n",
       "      <td>...</td>\n",
       "      <td>...</td>\n",
       "      <td>...</td>\n",
       "      <td>...</td>\n",
       "      <td>...</td>\n",
       "    </tr>\n",
       "    <tr>\n",
       "      <th>3328</th>\n",
       "      <td>2.283878</td>\n",
       "      <td>-0.327580</td>\n",
       "      <td>1.617086</td>\n",
       "      <td>2.038605</td>\n",
       "      <td>-0.432895</td>\n",
       "      <td>-1.167924</td>\n",
       "      <td>-0.433386</td>\n",
       "      <td>0.286348</td>\n",
       "      <td>1.299506</td>\n",
       "      <td>0.286880</td>\n",
       "      <td>1.547039</td>\n",
       "      <td>-0.874374</td>\n",
       "      <td>1.547188</td>\n",
       "      <td>-0.120832</td>\n",
       "      <td>0.617898</td>\n",
       "      <td>-0.125496</td>\n",
       "      <td>0.332354</td>\n",
       "    </tr>\n",
       "    <tr>\n",
       "      <th>3329</th>\n",
       "      <td>-0.830437</td>\n",
       "      <td>-0.327580</td>\n",
       "      <td>-0.618396</td>\n",
       "      <td>-0.591760</td>\n",
       "      <td>0.942447</td>\n",
       "      <td>-2.164631</td>\n",
       "      <td>0.942714</td>\n",
       "      <td>-0.938353</td>\n",
       "      <td>-2.264816</td>\n",
       "      <td>-0.938172</td>\n",
       "      <td>-0.189297</td>\n",
       "      <td>1.170023</td>\n",
       "      <td>-0.188670</td>\n",
       "      <td>-0.228304</td>\n",
       "      <td>-0.194831</td>\n",
       "      <td>-0.231645</td>\n",
       "      <td>1.092641</td>\n",
       "    </tr>\n",
       "    <tr>\n",
       "      <th>3330</th>\n",
       "      <td>-1.835055</td>\n",
       "      <td>-0.327580</td>\n",
       "      <td>-0.618396</td>\n",
       "      <td>-0.591760</td>\n",
       "      <td>0.018820</td>\n",
       "      <td>0.426808</td>\n",
       "      <td>0.019193</td>\n",
       "      <td>1.731930</td>\n",
       "      <td>-2.114211</td>\n",
       "      <td>1.732349</td>\n",
       "      <td>-0.177431</td>\n",
       "      <td>-0.465494</td>\n",
       "      <td>-0.175486</td>\n",
       "      <td>1.383778</td>\n",
       "      <td>0.617898</td>\n",
       "      <td>1.387123</td>\n",
       "      <td>0.332354</td>\n",
       "    </tr>\n",
       "    <tr>\n",
       "      <th>3331</th>\n",
       "      <td>2.082955</td>\n",
       "      <td>3.052685</td>\n",
       "      <td>-0.618396</td>\n",
       "      <td>-0.591760</td>\n",
       "      <td>0.624778</td>\n",
       "      <td>0.227466</td>\n",
       "      <td>0.625153</td>\n",
       "      <td>-0.816080</td>\n",
       "      <td>-0.808966</td>\n",
       "      <td>-0.815203</td>\n",
       "      <td>-1.219628</td>\n",
       "      <td>1.885562</td>\n",
       "      <td>-1.221396</td>\n",
       "      <td>-1.876211</td>\n",
       "      <td>2.243356</td>\n",
       "      <td>-1.876950</td>\n",
       "      <td>0.332354</td>\n",
       "    </tr>\n",
       "    <tr>\n",
       "      <th>3332</th>\n",
       "      <td>-0.679745</td>\n",
       "      <td>-0.327580</td>\n",
       "      <td>1.617086</td>\n",
       "      <td>1.234883</td>\n",
       "      <td>1.003042</td>\n",
       "      <td>0.626149</td>\n",
       "      <td>1.003202</td>\n",
       "      <td>1.280309</td>\n",
       "      <td>-0.909370</td>\n",
       "      <td>1.279915</td>\n",
       "      <td>0.801482</td>\n",
       "      <td>-1.181033</td>\n",
       "      <td>0.800110</td>\n",
       "      <td>1.240482</td>\n",
       "      <td>-0.194831</td>\n",
       "      <td>1.241169</td>\n",
       "      <td>-1.188218</td>\n",
       "    </tr>\n",
       "  </tbody>\n",
       "</table>\n",
       "<p>3333 rows × 17 columns</p>\n",
       "</div>"
      ],
      "text/plain": [
       "      Account length  International plan  Voice mail plan  \\\n",
       "0           0.676489           -0.327580         1.617086   \n",
       "1           0.149065           -0.327580         1.617086   \n",
       "2           0.902529           -0.327580        -0.618396   \n",
       "3          -0.428590            3.052685        -0.618396   \n",
       "4          -0.654629            3.052685        -0.618396   \n",
       "...              ...                 ...              ...   \n",
       "3328        2.283878           -0.327580         1.617086   \n",
       "3329       -0.830437           -0.327580        -0.618396   \n",
       "3330       -1.835055           -0.327580        -0.618396   \n",
       "3331        2.082955            3.052685        -0.618396   \n",
       "3332       -0.679745           -0.327580         1.617086   \n",
       "\n",
       "      Number vmail messages  Total day minutes  Total day calls  \\\n",
       "0                  1.234883           1.566767         0.476643   \n",
       "1                  1.307948          -0.333738         1.124503   \n",
       "2                 -0.591760           1.168304         0.675985   \n",
       "3                 -0.591760           2.196596        -1.466936   \n",
       "4                 -0.591760          -0.240090         0.626149   \n",
       "...                     ...                ...              ...   \n",
       "3328               2.038605          -0.432895        -1.167924   \n",
       "3329              -0.591760           0.942447        -2.164631   \n",
       "3330              -0.591760           0.018820         0.426808   \n",
       "3331              -0.591760           0.624778         0.227466   \n",
       "3332               1.234883           1.003042         0.626149   \n",
       "\n",
       "      Total day charge  Total eve minutes  Total eve calls  Total eve charge  \\\n",
       "0             1.567036          -0.070610        -0.055940         -0.070427   \n",
       "1            -0.334013          -0.108080         0.144867         -0.107549   \n",
       "2             1.168464          -1.573383         0.496279         -1.573900   \n",
       "3             2.196759          -2.742865        -0.608159         -2.743268   \n",
       "4            -0.240041          -1.038932         1.098699         -1.037939   \n",
       "...                ...                ...              ...               ...   \n",
       "3328         -0.433386           0.286348         1.299506          0.286880   \n",
       "3329          0.942714          -0.938353        -2.264816         -0.938172   \n",
       "3330          0.019193           1.731930        -2.114211          1.732349   \n",
       "3331          0.625153          -0.816080        -0.808966         -0.815203   \n",
       "3332          1.003202           1.280309        -0.909370          1.279915   \n",
       "\n",
       "      Total night minutes  Total night calls  Total night charge  \\\n",
       "0                0.866743          -0.465494            0.866029   \n",
       "1                1.058571           0.147825            1.059390   \n",
       "2               -0.756869           0.198935           -0.755571   \n",
       "3               -0.078551          -0.567714           -0.078806   \n",
       "4               -0.276311           1.067803           -0.276562   \n",
       "...                   ...                ...                 ...   \n",
       "3328             1.547039          -0.874374            1.547188   \n",
       "3329            -0.189297           1.170023           -0.188670   \n",
       "3330            -0.177431          -0.465494           -0.175486   \n",
       "3331            -1.219628           1.885562           -1.221396   \n",
       "3332             0.801482          -1.181033            0.800110   \n",
       "\n",
       "      Total intl minutes  Total intl calls  Total intl charge  \\\n",
       "0              -0.085008         -0.601195          -0.085690   \n",
       "1               1.240482         -0.601195           1.241169   \n",
       "2               0.703121          0.211534           0.697156   \n",
       "3              -1.303026          1.024263          -1.306401   \n",
       "4              -0.049184         -0.601195          -0.045885   \n",
       "...                  ...               ...                ...   \n",
       "3328           -0.120832          0.617898          -0.125496   \n",
       "3329           -0.228304         -0.194831          -0.231645   \n",
       "3330            1.383778          0.617898           1.387123   \n",
       "3331           -1.876211          2.243356          -1.876950   \n",
       "3332            1.240482         -0.194831           1.241169   \n",
       "\n",
       "      Customer service calls  \n",
       "0                  -0.427932  \n",
       "1                  -0.427932  \n",
       "2                  -1.188218  \n",
       "3                   0.332354  \n",
       "4                   1.092641  \n",
       "...                      ...  \n",
       "3328                0.332354  \n",
       "3329                1.092641  \n",
       "3330                0.332354  \n",
       "3331                0.332354  \n",
       "3332               -1.188218  \n",
       "\n",
       "[3333 rows x 17 columns]"
      ]
     },
     "execution_count": 33,
     "metadata": {},
     "output_type": "execute_result"
    }
   ],
   "source": [
    "X"
   ]
  },
  {
   "cell_type": "code",
   "execution_count": 34,
   "id": "0df6646a",
   "metadata": {},
   "outputs": [
    {
     "data": {
      "text/plain": [
       "0       1\n",
       "1       1\n",
       "2       1\n",
       "3       1\n",
       "4       1\n",
       "       ..\n",
       "3328    1\n",
       "3329    1\n",
       "3330    1\n",
       "3331    1\n",
       "3332    1\n",
       "Name: Churn, Length: 3333, dtype: int64"
      ]
     },
     "execution_count": 34,
     "metadata": {},
     "output_type": "execute_result"
    }
   ],
   "source": [
    "y"
   ]
  },
  {
   "cell_type": "code",
   "execution_count": 35,
   "id": "60313f00",
   "metadata": {},
   "outputs": [],
   "source": [
    "from sklearn.model_selection import train_test_split\n",
    "X_train, X_test, y_train, y_test = train_test_split(X, y, test_size=0.3, random_state=True)"
   ]
  },
  {
   "cell_type": "code",
   "execution_count": 36,
   "id": "091cfd0d",
   "metadata": {},
   "outputs": [
    {
     "data": {
      "text/plain": [
       "((2333, 17), (1000, 17))"
      ]
     },
     "execution_count": 36,
     "metadata": {},
     "output_type": "execute_result"
    }
   ],
   "source": [
    "X_train.shape, X_test.shape"
   ]
  },
  {
   "cell_type": "code",
   "execution_count": 37,
   "id": "6ccea137",
   "metadata": {},
   "outputs": [
    {
     "data": {
      "text/plain": [
       "((2333,), (1000,))"
      ]
     },
     "execution_count": 37,
     "metadata": {},
     "output_type": "execute_result"
    }
   ],
   "source": [
    "y_train.shape, y_test.shape"
   ]
  },
  {
   "cell_type": "code",
   "execution_count": 38,
   "id": "402449f5",
   "metadata": {},
   "outputs": [
    {
     "data": {
      "text/plain": [
       "LogisticRegression(max_iter=100000)"
      ]
     },
     "execution_count": 38,
     "metadata": {},
     "output_type": "execute_result"
    }
   ],
   "source": [
    "from sklearn.linear_model import LogisticRegression\n",
    "from sklearn.metrics import classification_report, confusion_matrix\n",
    "model_LR = LogisticRegression(max_iter=100000)\n",
    "model_LR.fit(X_train, y_train)"
   ]
  },
  {
   "cell_type": "markdown",
   "id": "f626c506",
   "metadata": {},
   "source": [
    "- Here we have used LogisticRegression model. As we know that it is binary classification problem statement it is solved by LR."
   ]
  },
  {
   "cell_type": "code",
   "execution_count": 39,
   "id": "9f0accd6",
   "metadata": {},
   "outputs": [],
   "source": [
    "y_predict = model_LR.predict(X_test)"
   ]
  },
  {
   "cell_type": "code",
   "execution_count": 40,
   "id": "224f557f",
   "metadata": {},
   "outputs": [
    {
     "name": "stdout",
     "output_type": "stream",
     "text": [
      "              precision    recall  f1-score   support\n",
      "\n",
      "           0       0.42      0.15      0.22       145\n",
      "           1       0.87      0.96      0.92       855\n",
      "\n",
      "    accuracy                           0.85      1000\n",
      "   macro avg       0.65      0.56      0.57      1000\n",
      "weighted avg       0.81      0.85      0.81      1000\n",
      "\n"
     ]
    }
   ],
   "source": [
    "print(classification_report(y_test, y_predict))"
   ]
  },
  {
   "cell_type": "code",
   "execution_count": 41,
   "id": "31297e4a",
   "metadata": {},
   "outputs": [
    {
     "data": {
      "text/plain": [
       "<AxesSubplot:>"
      ]
     },
     "execution_count": 41,
     "metadata": {},
     "output_type": "execute_result"
    },
    {
     "data": {
      "image/png": "[encoded data removed]",
      "text/plain": [
       "<Figure size 432x288 with 2 Axes>"
      ]
     },
     "metadata": {
      "needs_background": "light"
     },
     "output_type": "display_data"
    }
   ],
   "source": [
    "cm = confusion_matrix(y_test, y_predict)\n",
    "sns.heatmap(cm, annot=True)"
   ]
  },
  {
   "cell_type": "code",
   "execution_count": 42,
   "id": "a2e7e5ed",
   "metadata": {},
   "outputs": [
    {
     "data": {
      "text/plain": [
       "array([0.94646681, 0.88008565, 0.91220557, 0.91630901, 0.91416309])"
      ]
     },
     "execution_count": 42,
     "metadata": {},
     "output_type": "execute_result"
    }
   ],
   "source": [
    "from sklearn.tree import DecisionTreeClassifier\n",
    "from sklearn.model_selection import cross_val_score\n",
    "scores = cross_val_score(DecisionTreeClassifier(), X_train, y_train, cv=5)\n",
    "scores"
   ]
  },
  {
   "cell_type": "markdown",
   "id": "ca016101",
   "metadata": {},
   "source": [
    "- Cross-validation is usually the preferred method because it gives your model the opportunity to train on multiple train-test splits.\n",
    "-  This gives you a better indication of how well your model will perform on unseen data. on the other hand, it is dependent on just one train-test split."
   ]
  },
  {
   "cell_type": "code",
   "execution_count": 43,
   "id": "b42f0e8c",
   "metadata": {},
   "outputs": [
    {
     "data": {
      "text/plain": [
       "0.9138460265965757"
      ]
     },
     "execution_count": 43,
     "metadata": {},
     "output_type": "execute_result"
    }
   ],
   "source": [
    "scores.mean()"
   ]
  },
  {
   "cell_type": "code",
   "execution_count": 44,
   "id": "968d4b1e",
   "metadata": {},
   "outputs": [
    {
     "data": {
      "text/plain": [
       "DecisionTreeClassifier()"
      ]
     },
     "execution_count": 44,
     "metadata": {},
     "output_type": "execute_result"
    }
   ],
   "source": [
    "from sklearn.tree import DecisionTreeClassifier\n",
    "model_dt = DecisionTreeClassifier()\n",
    "model_dt.fit(X_train, y_train)"
   ]
  },
  {
   "cell_type": "code",
   "execution_count": 45,
   "id": "2689911f",
   "metadata": {},
   "outputs": [],
   "source": [
    "y_predict = model_dt.predict(X_test)"
   ]
  },
  {
   "cell_type": "code",
   "execution_count": 46,
   "id": "0cb13aeb",
   "metadata": {},
   "outputs": [
    {
     "name": "stdout",
     "output_type": "stream",
     "text": [
      "              precision    recall  f1-score   support\n",
      "\n",
      "           0       0.68      0.73      0.70       145\n",
      "           1       0.95      0.94      0.95       855\n",
      "\n",
      "    accuracy                           0.91      1000\n",
      "   macro avg       0.81      0.84      0.82      1000\n",
      "weighted avg       0.91      0.91      0.91      1000\n",
      "\n"
     ]
    }
   ],
   "source": [
    "print(classification_report(y_test, y_predict))"
   ]
  },
  {
   "cell_type": "code",
   "execution_count": 47,
   "id": "bc30f36c",
   "metadata": {},
   "outputs": [
    {
     "data": {
      "text/plain": [
       "<AxesSubplot:>"
      ]
     },
     "execution_count": 47,
     "metadata": {},
     "output_type": "execute_result"
    },
    {
     "data": {
      "image/png": "[encoded data removed]",
      "text/plain": [
       "<Figure size 432x288 with 2 Axes>"
      ]
     },
     "metadata": {
      "needs_background": "light"
     },
     "output_type": "display_data"
    }
   ],
   "source": [
    "cm = confusion_matrix(y_test, y_predict)\n",
    "sns.heatmap(cm, annot=True)"
   ]
  },
  {
   "cell_type": "code",
   "execution_count": 48,
   "id": "dbf3f18c",
   "metadata": {},
   "outputs": [
    {
     "data": {
      "text/plain": [
       "RandomForestClassifier()"
      ]
     },
     "execution_count": 48,
     "metadata": {},
     "output_type": "execute_result"
    }
   ],
   "source": [
    "from sklearn.ensemble import RandomForestClassifier\n",
    "model_rf = RandomForestClassifier()\n",
    "model_rf.fit(X_train, y_train)"
   ]
  },
  {
   "cell_type": "markdown",
   "id": "e5f515ba",
   "metadata": {},
   "source": [
    "- Here we have also used Random forest classifier because we all know that random forest uses multiple decision tree so the accuracy of random forest is more than DT (Decision tree). The base learners/models are DT."
   ]
  },
  {
   "cell_type": "code",
   "execution_count": 49,
   "id": "3817a278",
   "metadata": {},
   "outputs": [],
   "source": [
    "y_predict = model_rf.predict(X_test)"
   ]
  },
  {
   "cell_type": "code",
   "execution_count": 50,
   "id": "47391bd3",
   "metadata": {},
   "outputs": [
    {
     "name": "stdout",
     "output_type": "stream",
     "text": [
      "              precision    recall  f1-score   support\n",
      "\n",
      "           0       0.89      0.70      0.78       145\n",
      "           1       0.95      0.99      0.97       855\n",
      "\n",
      "    accuracy                           0.94      1000\n",
      "   macro avg       0.92      0.84      0.88      1000\n",
      "weighted avg       0.94      0.94      0.94      1000\n",
      "\n"
     ]
    }
   ],
   "source": [
    "print(classification_report(y_test, y_predict))"
   ]
  },
  {
   "cell_type": "code",
   "execution_count": 51,
   "id": "3fb63f22",
   "metadata": {},
   "outputs": [
    {
     "data": {
      "text/plain": [
       "<AxesSubplot:>"
      ]
     },
     "execution_count": 51,
     "metadata": {},
     "output_type": "execute_result"
    },
    {
     "data": {
      "image/png": "[encoded data removed]",
      "text/plain": [
       "<Figure size 432x288 with 2 Axes>"
      ]
     },
     "metadata": {
      "needs_background": "light"
     },
     "output_type": "display_data"
    }
   ],
   "source": [
    "cm = confusion_matrix(y_test, y_predict)\n",
    "sns.heatmap(cm, annot=True)"
   ]
  },
  {
   "cell_type": "markdown",
   "id": "f7075fcd",
   "metadata": {},
   "source": [
    "- RF heatmap"
   ]
  },
  {
   "cell_type": "code",
   "execution_count": 52,
   "id": "ded575af",
   "metadata": {},
   "outputs": [
    {
     "data": {
      "text/plain": [
       "0.9511358765537934"
      ]
     },
     "execution_count": 52,
     "metadata": {},
     "output_type": "execute_result"
    }
   ],
   "source": [
    "from sklearn.ensemble import BaggingClassifier\n",
    "\n",
    "bag_model = BaggingClassifier(base_estimator=DecisionTreeClassifier(), \n",
    "                              n_estimators=100, \n",
    "                              max_samples=0.8, \n",
    "                              oob_score=True, \n",
    "                              random_state=0)\n",
    "bag_model.fit(X_train, y_train)\n",
    "bag_model.oob_score_"
   ]
  },
  {
   "cell_type": "code",
   "execution_count": 53,
   "id": "4c76d4e6",
   "metadata": {},
   "outputs": [
    {
     "data": {
      "text/plain": [
       "0.948"
      ]
     },
     "execution_count": 53,
     "metadata": {},
     "output_type": "execute_result"
    }
   ],
   "source": [
    "bag_model.score(X_test, y_test)"
   ]
  },
  {
   "cell_type": "code",
   "execution_count": 54,
   "id": "d9ab0362",
   "metadata": {},
   "outputs": [
    {
     "data": {
      "text/plain": [
       "0.9485594287342274"
      ]
     },
     "execution_count": 54,
     "metadata": {},
     "output_type": "execute_result"
    }
   ],
   "source": [
    "bag_model = BaggingClassifier(base_estimator=DecisionTreeClassifier(), \n",
    "                              n_estimators=100, \n",
    "                              max_samples=0.8, \n",
    "                              oob_score=True, \n",
    "                              random_state=0)\n",
    "scores = cross_val_score(bag_model, X_train, y_train, cv=5)\n",
    "scores.mean()"
   ]
  },
  {
   "cell_type": "markdown",
   "id": "6b9067cb",
   "metadata": {},
   "source": [
    "- You will notice here that the base model gives you 91% accuracy where as the bagged model gives you 94% accuracy."
   ]
  },
  {
   "cell_type": "code",
   "execution_count": 55,
   "id": "67283c21",
   "metadata": {},
   "outputs": [
    {
     "data": {
      "text/plain": [
       "BaggingClassifier()"
      ]
     },
     "execution_count": 55,
     "metadata": {},
     "output_type": "execute_result"
    }
   ],
   "source": [
    "model_bg = BaggingClassifier()\n",
    "model_bg.fit(X_train, y_train)"
   ]
  },
  {
   "cell_type": "code",
   "execution_count": 56,
   "id": "82cb3a0c",
   "metadata": {},
   "outputs": [],
   "source": [
    "y_predict = model_bg.predict(X_test)"
   ]
  },
  {
   "cell_type": "code",
   "execution_count": 57,
   "id": "cccf919e",
   "metadata": {},
   "outputs": [
    {
     "name": "stdout",
     "output_type": "stream",
     "text": [
      "              precision    recall  f1-score   support\n",
      "\n",
      "           0       0.83      0.75      0.79       145\n",
      "           1       0.96      0.97      0.97       855\n",
      "\n",
      "    accuracy                           0.94      1000\n",
      "   macro avg       0.90      0.86      0.88      1000\n",
      "weighted avg       0.94      0.94      0.94      1000\n",
      "\n"
     ]
    }
   ],
   "source": [
    "print(classification_report(y_test, y_predict))"
   ]
  },
  {
   "cell_type": "markdown",
   "id": "98cf7515",
   "metadata": {},
   "source": [
    "   ### Comparing Each Model With the ROC Curve\n",
    "   \n",
    "   - ROC curve, also known as Receiver Operating Characteristics Curve, is a metric used to measure the performance of a classifier model.\n",
    "   - The ROC curve depicts the rate of true positives with respect to the rate of false positives, therefore highlighting the sensitivity of the classifier model.\n",
    "   - The ROC curve shows the trade-off between sensitivity (or TPR) and specificity (1 – FPR)."
   ]
  },
  {
   "cell_type": "code",
   "execution_count": 58,
   "id": "7a7eb790",
   "metadata": {},
   "outputs": [],
   "source": [
    "from sklearn.metrics import roc_curve"
   ]
  },
  {
   "cell_type": "code",
   "execution_count": 59,
   "id": "4d4f60a0",
   "metadata": {},
   "outputs": [],
   "source": [
    "fpr1, tpr1, thresh1 = roc_curve(y_test, model_LR.predict_proba(X_test)\n",
    "[:, 1], pos_label = 1)\n",
    "fpr2, tpr2, thresh2 = roc_curve(y_test, model_dt.predict_proba(X_test)\n",
    "[:, 1], pos_label = 1)\n",
    "fpr3, tpr3, thresh3 = roc_curve(y_test, model_rf.predict_proba(X_test)\n",
    "[:, 1], pos_label = 1)\n",
    "fpr4, tpr4, thresh4 = roc_curve(y_test, model_bg.predict_proba(X_test)\n",
    "[:, 1], pos_label = 1)"
   ]
  },
  {
   "cell_type": "markdown",
   "id": "0ccd1a15",
   "metadata": {},
   "source": [
    "- Receiver Operating Characteristics Curve **(ROC) curve**"
   ]
  },
  {
   "cell_type": "code",
   "execution_count": 60,
   "id": "02893adf",
   "metadata": {},
   "outputs": [],
   "source": [
    "from sklearn.metrics import roc_auc_score"
   ]
  },
  {
   "cell_type": "code",
   "execution_count": 61,
   "id": "b3db7250",
   "metadata": {},
   "outputs": [
    {
     "name": "stdout",
     "output_type": "stream",
     "text": [
      "Logistic Regression :  0.7890542448074208\n",
      "Decision Tree Classifier :  0.8356926799758015\n",
      "Random Forest Classifier :  0.9069409155071588\n",
      "Bagging Classifier :  0.8959467634603752\n"
     ]
    }
   ],
   "source": [
    "auc_score1 = roc_auc_score(y_test, model_LR.predict_proba(X_test)\n",
    "[:, 1])\n",
    "auc_score2 = roc_auc_score(y_test, model_dt.predict_proba(X_test)\n",
    "[:, 1])\n",
    "auc_score3 = roc_auc_score(y_test, model_rf.predict_proba(X_test)\n",
    "[:, 1])\n",
    "auc_score4 = roc_auc_score(y_test, model_bg.predict_proba(X_test)\n",
    "[:, 1])\n",
    "\n",
    "print('Logistic Regression : ', auc_score1)\n",
    "print('Decision Tree Classifier : ', auc_score2)\n",
    "print('Random Forest Classifier : ', auc_score3)\n",
    "print('Bagging Classifier : ', auc_score4)"
   ]
  },
  {
   "cell_type": "markdown",
   "id": "cff90ca8",
   "metadata": {},
   "source": [
    "- Area under the ROC Curve **(AUC) curve**"
   ]
  },
  {
   "cell_type": "code",
   "execution_count": 62,
   "id": "64762b9f",
   "metadata": {},
   "outputs": [
    {
     "data": {
      "image/png": "[encoded data removed]",
      "text/plain": [
       "<Figure size 432x288 with 1 Axes>"
      ]
     },
     "metadata": {
      "needs_background": "light"
     },
     "output_type": "display_data"
    }
   ],
   "source": [
    "plt.plot(fpr1, tpr1 ,Linestyle = '--', color = 'orange', label = 'Logistic Regression')\n",
    "plt.plot(fpr2, tpr2 ,Linestyle = '--', color = 'blue', label = 'Decision Tree Classifier')\n",
    "plt.plot(fpr3, tpr3 ,Linestyle = '--', color = 'green', label = 'Random Forest Classifier')\n",
    "plt.plot(fpr4, tpr4 ,Linestyle = '--', color = 'yellow', label = 'Bagging Classifier')\n",
    "\n",
    "plt.title('Receiver Operating Characteristics (ROC)')\n",
    "plt.xlabel('False Positive Rate')\n",
    "plt.ylabel('True Positive Rate')\n",
    "plt.legend(loc ='best')\n",
    "plt.savefig('ROC', dpi = 1000)\n",
    "plt.show()"
   ]
  },
  {
   "cell_type": "markdown",
   "id": "b9981689",
   "metadata": {},
   "source": [
    "### Conclusion : \n",
    "\n",
    "- **The graph represents that Random Forest algorithm produced the best AUC. Therefore, it is clear that Random Forest model did a better job of classifying the churned/retained telecom customers.**"
   ]
  }
 ],
 "metadata": {
  "kernelspec": {
   "display_name": "Python 3 (ipykernel)",
   "language": "python",
   "name": "python3"
  },
  "language_info": {
   "codemirror_mode": {
    "name": "ipython",
    "version": 3
   },
   "file_extension": ".py",
   "mimetype": "text/x-python",
   "name": "python",
   "nbconvert_exporter": "python",
   "pygments_lexer": "ipython3",
   "version": "3.9.7"
  }
 },
 "nbformat": 4,
 "nbformat_minor": 5
}
